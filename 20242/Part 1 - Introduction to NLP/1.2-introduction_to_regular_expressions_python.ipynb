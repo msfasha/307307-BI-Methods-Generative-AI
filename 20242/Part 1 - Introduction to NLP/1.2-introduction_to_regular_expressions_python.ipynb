{
 "cells": [
  {
   "cell_type": "markdown",
   "id": "10f1a11f",
   "metadata": {},
   "source": [
    "![Alt Text](https://raw.githubusercontent.com/msfasha/307307-BI-Methods/main/20242-NLP-LLM/images/header.png)"
   ]
  },
  {
   "cell_type": "markdown",
   "id": "7f98eba5",
   "metadata": {},
   "source": [
    "# **Introduction to Regular Expressions (RegEx) in Python**"
   ]
  },
  {
   "cell_type": "markdown",
   "id": "763130f2",
   "metadata": {},
   "source": [
    "<div style=\"display: flex; justify-content: flex-start; align-items: center;\">\n",
    "    <a href=\"https://github.com/msfasha/307307-BI-Methods/blob/main/20242-NLP-LLM/Part%201%20-%20Introduction%20to%20NLP/1.2-introduction_to_regular_expressions_python.ipynb\" target=\"_blank\">  \n",
    "    <img src=\"https://colab.research.google.com/assets/colab-badge.svg\" alt=\"Open In Colab\" style=\"height: 25px; margin-right: 20px;\">\n",
    "</a>\n",
    "</div>"
   ]
  },
  {
   "cell_type": "markdown",
   "id": "faaa2e57",
   "metadata": {},
   "source": [
    "Regular Expressions (RegEx) help us **search, extract, and manipulate** text efficiently. Python provides the `re` module to work with regex.\n",
    "\n",
    "In this notebook, we'll cover **simple regex patterns with diverse examples**, perfect for beginners!"
   ]
  },
  {
   "cell_type": "code",
   "execution_count": 91,
   "id": "73d39e0a",
   "metadata": {},
   "outputs": [],
   "source": [
    "import re  # Import the regular expressions module"
   ]
  },
  {
   "cell_type": "markdown",
   "id": "b1fb4a14",
   "metadata": {},
   "source": [
    "#### **1. Searching for a Simple Character**\n",
    "**Pattern:** `a`\n",
    "\n",
    "This pattern matches the letter 'a' anywhere in the string."
   ]
  },
  {
   "cell_type": "code",
   "execution_count": 92,
   "id": "ede1bf5d",
   "metadata": {},
   "outputs": [
    {
     "name": "stdout",
     "output_type": "stream",
     "text": [
      "Found \"a\" at position: 0\n"
     ]
    }
   ],
   "source": [
    "text = 'apple banana cat'\n",
    "match = re.search(r'a', text)\n",
    "if match:\n",
    "    print(f'Found \"a\" at position: {match.start()}')  # Output: Position of first 'a'\n",
    "else:\n",
    "        print('No match found.')"
   ]
  },
  {
   "cell_type": "markdown",
   "id": "ce278274",
   "metadata": {},
   "source": [
    "#### **2. Matching an Exact Word**\n",
    "**Pattern:** `cat`\n",
    "\n",
    "This pattern finds the word 'cat' in a string."
   ]
  },
  {
   "cell_type": "code",
   "execution_count": 93,
   "id": "b1692752",
   "metadata": {},
   "outputs": [
    {
     "name": "stdout",
     "output_type": "stream",
     "text": [
      "Found \"cat\" at position: 4\n"
     ]
    }
   ],
   "source": [
    "text = 'The cat sat on the mat.'\n",
    "match = re.search(r'cat', text)\n",
    "if match:\n",
    "    print(f'Found \"cat\" at position: {match.start()}')\n",
    "else:\n",
    "    print('No match found.')"
   ]
  },
  {
   "cell_type": "markdown",
   "id": "a8dd59c1",
   "metadata": {},
   "source": [
    "#### **3. Matching Any Character**\n",
    "**Pattern:** `c.t`\n",
    "\n",
    "The `.` (dot) matches any single character. This finds words like 'cat', 'cot', or 'cut'."
   ]
  },
  {
   "cell_type": "code",
   "execution_count": 94,
   "id": "b255935a",
   "metadata": {},
   "outputs": [
    {
     "name": "stdout",
     "output_type": "stream",
     "text": [
      "Matching words: ['cat', 'cot', 'cut']\n"
     ]
    }
   ],
   "source": [
    "text = 'cat cot cut'\n",
    "matches = re.findall(r'c.t', text)\n",
    "print(f'Matching words: {matches}')  # Output: ['cat', 'cot', 'cut']"
   ]
  },
  {
   "cell_type": "markdown",
   "id": "1b16f82c",
   "metadata": {},
   "source": [
    "#### **4. Matching a Digit**\n",
    "**Pattern:** `\\d`\n",
    "\n",
    "The `\\d` pattern matches any single digit (0-9)."
   ]
  },
  {
   "cell_type": "code",
   "execution_count": 95,
   "id": "a6c76d35",
   "metadata": {},
   "outputs": [
    {
     "name": "stdout",
     "output_type": "stream",
     "text": [
      "Found digits: ['5', '7']\n"
     ]
    }
   ],
   "source": [
    "text = 'My number is 5 and yours is 7.'\n",
    "matches = re.findall(r'\\d', text)\n",
    "print(f'Found digits: {matches}')  # Output: ['5', '7']"
   ]
  },
  {
   "cell_type": "markdown",
   "id": "548c7036",
   "metadata": {},
   "source": [
    "#### **5. Matching a Word Character**\n",
    "**Pattern:** `\\w`\n",
    "\n",
    "The `\\w` pattern matches any letter, number, or underscore (_)."
   ]
  },
  {
   "cell_type": "code",
   "execution_count": 96,
   "id": "ad8961ac",
   "metadata": {},
   "outputs": [
    {
     "name": "stdout",
     "output_type": "stream",
     "text": [
      "Word characters: ['H', 'e', 'l', 'l', 'o', 'P', 'y', 't', 'h', 'o', 'n', '_', '3']\n"
     ]
    }
   ],
   "source": [
    "text = 'Hello, Python_3!'\n",
    "matches = re.findall(r'\\w', text)\n",
    "print(f'Word characters: {matches}')  # Output: ['H', 'e', 'l', 'l', 'o', ..., '3']"
   ]
  },
  {
   "cell_type": "markdown",
   "id": "60216079",
   "metadata": {},
   "source": [
    "#### **6. Matching Whitespace**\n",
    "**Pattern:** `\\s`\n",
    "\n",
    "The `\\s` pattern matches any space, tab, or newline character."
   ]
  },
  {
   "cell_type": "code",
   "execution_count": 97,
   "id": "5fac6a49",
   "metadata": {},
   "outputs": [
    {
     "name": "stdout",
     "output_type": "stream",
     "text": [
      "Whitespace characters found: 3\n"
     ]
    }
   ],
   "source": [
    "text = 'Hello World\\nNew Line'\n",
    "matches = re.findall(r'\\s', text)\n",
    "print(f'Whitespace characters found: {len(matches)}')  # Output: 3 (space, newline, space)"
   ]
  },
  {
   "cell_type": "markdown",
   "id": "0a624f4f",
   "metadata": {},
   "source": [
    "#### **7. Matching Multiple Occurrences**\n",
    "**Pattern:** `o+`\n",
    "\n",
    "The `+` means 'one or more' repetitions of the letter 'o'."
   ]
  },
  {
   "cell_type": "code",
   "execution_count": 98,
   "id": "887a32af",
   "metadata": {},
   "outputs": [
    {
     "name": "stdout",
     "output_type": "stream",
     "text": [
      "Found sequences: ['ooooo', 'oo', 'oo']\n"
     ]
    }
   ],
   "source": [
    "text = 'sooooon moon good'\n",
    "matches = re.findall(r'o+', text)\n",
    "print(f'Found sequences: {matches}')  # Output: ['oooo', 'oo', 'oo']"
   ]
  },
  {
   "cell_type": "markdown",
   "id": "08ca12fa",
   "metadata": {},
   "source": [
    "#### **8. Matching the Start of a String**\n",
    "**Pattern:** `^Hello`\n",
    "\n",
    "The `^` symbol ensures the match is **only at the beginning** of the string."
   ]
  },
  {
   "cell_type": "code",
   "execution_count": 99,
   "id": "d84904b1",
   "metadata": {},
   "outputs": [
    {
     "name": "stdout",
     "output_type": "stream",
     "text": [
      "The string starts with \"Hello\"!\n"
     ]
    }
   ],
   "source": [
    "text = 'Hello, world!'\n",
    "match = re.match(r'^Hello', text)\n",
    "if match:\n",
    "    print('The string starts with \"Hello\"!')\n",
    "else:\n",
    "    print('No match at the start.')"
   ]
  },
  {
   "cell_type": "markdown",
   "id": "3cad8f02",
   "metadata": {},
   "source": [
    "#### **9. Matching the End of a String**\n",
    "**Pattern:** `world!$`\n",
    "\n",
    "The `$` symbol ensures the match is **only at the end** of the string."
   ]
  },
  {
   "cell_type": "code",
   "execution_count": 100,
   "id": "59df9b06",
   "metadata": {},
   "outputs": [
    {
     "name": "stdout",
     "output_type": "stream",
     "text": [
      "The string ends with \"world!\"\n"
     ]
    }
   ],
   "source": [
    "text = 'This is my world!'\n",
    "match = re.search(r'world!$', text)\n",
    "if match:\n",
    "    print('The string ends with \"world!\"')\n",
    "else:\n",
    "    print('No match at the end.')"
   ]
  },
  {
   "cell_type": "markdown",
   "id": "b456e2de",
   "metadata": {},
   "source": [
    "#### **10. Finding All Words with 'ing'**\n",
    "**Pattern:** `\\b\\w+ing\\b`\n",
    "\n",
    "This pattern finds full words ending in 'ing'."
   ]
  },
  {
   "cell_type": "code",
   "execution_count": 101,
   "id": "1bf5e959",
   "metadata": {},
   "outputs": [
    {
     "name": "stdout",
     "output_type": "stream",
     "text": [
      "Words ending with \"ing\": ['running', 'singing', 'playing']\n"
     ]
    }
   ],
   "source": [
    "text = 'I am running, singing, and playing today.'\n",
    "matches = re.findall(r'\\b\\w+ing\\b', text)\n",
    "print(f'Words ending with \"ing\": {matches}')  # Output: ['running', 'singing', 'playing']"
   ]
  },
  {
   "cell_type": "markdown",
   "id": "dad0d28a",
   "metadata": {},
   "source": [
    "---"
   ]
  },
  {
   "cell_type": "markdown",
   "id": "4684e0b9",
   "metadata": {},
   "source": [
    "### **Practical Example**"
   ]
  },
  {
   "cell_type": "markdown",
   "id": "4c2f9435",
   "metadata": {},
   "source": [
    "The script below uses regular expressions to automatically extract essential business details including:\n",
    "- email subjects\n",
    "- recipient names\n",
    "- dates\n",
    "- monetary amounts\n",
    "- company names \n",
    "\n",
    "from sample email text, organizing the results into a structured pandas DataFrame for easy analysis."
   ]
  },
  {
   "cell_type": "code",
   "execution_count": 102,
   "id": "b0905cfc",
   "metadata": {},
   "outputs": [],
   "source": [
    "import re\n",
    "\n",
    "email = \"\"\"Subject: Meeting Request for Product Launch\n",
    "    Dear John,\n",
    "\n",
    "    We are excited to announce the launch of our new product next month. The project cost is estimated at $12,500,000.\n",
    "    We would like to schedule a meeting on March 20th at 3 PM to discuss partnership opportunities.\n",
    "\n",
    "    Best regards,\n",
    "    Jane Doe\n",
    "    MarketingPro Inc.\"\"\""
   ]
  },
  {
   "cell_type": "markdown",
   "id": "ca5e99ce",
   "metadata": {},
   "source": [
    "**Extracting the Subject of the Email**"
   ]
  },
  {
   "cell_type": "code",
   "execution_count": 103,
   "id": "fae1e2b7",
   "metadata": {},
   "outputs": [
    {
     "name": "stdout",
     "output_type": "stream",
     "text": [
      "Meeting Request for Product Launch\n"
     ]
    }
   ],
   "source": [
    "# Pattern: r\"Subject:\\s*(.*)\"\n",
    "# - Matches the word \"Subject:\" followed by any whitespace (`\\s*`).\n",
    "# - Captures the rest of the line (the actual subject) using `(.*)`, \n",
    "#   which means \"any character (.) zero or more times (*)\".\n",
    "# - This helps in extracting the subject line from the email content.\n",
    "\n",
    "match = re.search(r\"Subject:\\s*(.*)\", email)\n",
    "subject = match.group(1) if match else \"Not Found\"\n",
    "\n",
    "print(subject)"
   ]
  },
  {
   "cell_type": "markdown",
   "id": "4712aeeb",
   "metadata": {},
   "source": [
    "   **Extracting the Recipient Name or Team**"
   ]
  },
  {
   "cell_type": "code",
   "execution_count": 104,
   "id": "c6480ae5",
   "metadata": {},
   "outputs": [
    {
     "name": "stdout",
     "output_type": "stream",
     "text": [
      "John\n"
     ]
    }
   ],
   "source": [
    "# Pattern: r\"Dear\\s+([\\w\\s]+),\"\n",
    "# - Matches the word \"Dear\" followed by one or more whitespace characters (`\\s+`).\n",
    "# - Captures the recipient’s name or team using `([\\w\\s]+)`, \n",
    "#   which means \"one or more word characters (`\\w`) or spaces (`\\s`)\".\n",
    "# - Ensures the match ends before the comma (`,`), marking the end of the salutation.\n",
    "\n",
    "match = re.search(r\"Dear\\s+([\\w\\s]+),\", email)\n",
    "recipient = match.group(1) if match else \"Not Found\"\n",
    "\n",
    "print(recipient)"
   ]
  },
  {
   "cell_type": "markdown",
   "id": "fc0d94eb",
   "metadata": {},
   "source": [
    "**Extracting Any Mentioned Date**"
   ]
  },
  {
   "cell_type": "code",
   "execution_count": 105,
   "id": "5ab2e5d1",
   "metadata": {},
   "outputs": [
    {
     "name": "stdout",
     "output_type": "stream",
     "text": [
      "March\n"
     ]
    }
   ],
   "source": [
    "# Pattern: r\"(January|February|March|April|May|June|July|August|September|October|November|December) \\d{1,2}\"\n",
    "# - Looks for any full month name (`January` to `December`).\n",
    "# - Followed by a space and a **1 or 2 digit number** (`\\d{1,2}`), representing the day.\n",
    "# - This extracts dates like \"March 20\", \"April 10\", or \"May 5\" from the email content.\n",
    "\n",
    "match = re.search(r\"(January|February|March|April|May|June|July|August|September|October|November|December) \\d{1,2}\", email)\n",
    "date_mentioned = match.group(1) if match else \"Not Found\"\n",
    "print(date_mentioned)"
   ]
  },
  {
   "cell_type": "markdown",
   "id": "da9ff040",
   "metadata": {},
   "source": [
    "**Extracting Monetary Values (Currency Amounts)**"
   ]
  },
  {
   "cell_type": "code",
   "execution_count": 106,
   "id": "eadacbff",
   "metadata": {},
   "outputs": [
    {
     "name": "stdout",
     "output_type": "stream",
     "text": [
      "$12,500,000\n"
     ]
    }
   ],
   "source": [
    "# Pattern: r\"\\$\\d{1,3}(?:,\\d{3})*(?:\\.\\d{2})?\"\n",
    "# - Matches a dollar sign (`\\$`).\n",
    "# - Captures **1 to 3 digits** (`\\d{1,3}`) at the start of the amount.\n",
    "# - Optionally matches **comma-separated thousands** using `(?:,\\d{3})*` (e.g., \"$1,000\" or \"$15,000\").\n",
    "# - Optionally matches **decimal values** (`(?:\\.\\d{2})?`), allowing for cents like \"$99.99\".\n",
    "# - This extracts monetary values such as \"$15,000\", \"$95,000\", or \"$499.99\" from the email.\n",
    "\n",
    "match = re.search(r\"\\$\\d{1,3}(?:,\\d{3})*(?:\\.\\d{2})?\", email)\n",
    "amount_mentioned = match.group(0) if match else \"Not Found\"\n",
    "print(amount_mentioned)"
   ]
  },
  {
   "cell_type": "markdown",
   "id": "3c53db63",
   "metadata": {},
   "source": [
    "**Extracting Company Names**"
   ]
  },
  {
   "cell_type": "code",
   "execution_count": 107,
   "id": "1c5642bd",
   "metadata": {},
   "outputs": [
    {
     "name": "stdout",
     "output_type": "stream",
     "text": [
      "    MarketingPro Inc.\n"
     ]
    }
   ],
   "source": [
    "# Pattern: r\"\\n\\s*([\\w\\s]+(?:Inc\\.|Ltd\\.|Corp\\.|Giant))\"\n",
    "# - Ensures the match starts on a new line (`\\n`).\n",
    "# - Allows for any leading whitespace (`\\s*`).\n",
    "# - Captures the company name using `([\\w\\s]+)`, which allows letters and spaces.\n",
    "# - Ensures the company name ends with a **common business suffix** (e.g., \"Inc.\", \"Ltd.\", \"Corp.\", or \"Giant\").\n",
    "# - This extracts names like \"MarketingPro Inc.\", \"TechInnovators Ltd.\", and \"GlobalCorp.\"\n",
    "\n",
    "match = re.search(r\"^\\s*([\\w ]+(?:Inc\\.|Ltd\\.|Corp\\.|Giant))\", email,re.MULTILINE)\n",
    "company_name = match.group(0) if match else \"Not Found\"\n",
    "print(company_name)\n"
   ]
  },
  {
   "cell_type": "markdown",
   "id": "f89d75b0",
   "metadata": {},
   "source": [
    "Note:<br>\n",
    "If we want to match start-of-line within multi-line text we need to set the re.MULTILINE flag, otherwise it will match the first line only\n",
    "\n",
    "The re.MULTILINE flag redefines ^ and $ so that:\n",
    "\n",
    "|Anchor\tNormal (default)|With re.MULTILINE|\n",
    "|--|--|\n",
    "|^\t|Start of string\tStart of any line|\n",
    "|$\t|End of string\tEnd of any line|"
   ]
  }
 ],
 "metadata": {
  "kernelspec": {
   "display_name": "myenv",
   "language": "python",
   "name": "python3"
  },
  "language_info": {
   "codemirror_mode": {
    "name": "ipython",
    "version": 3
   },
   "file_extension": ".py",
   "mimetype": "text/x-python",
   "name": "python",
   "nbconvert_exporter": "python",
   "pygments_lexer": "ipython3",
   "version": "3.13.2"
  }
 },
 "nbformat": 4,
 "nbformat_minor": 5
}
