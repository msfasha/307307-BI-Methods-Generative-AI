{
 "cells": [
  {
   "cell_type": "markdown",
   "id": "2bc54330",
   "metadata": {},
   "source": [
    "![Alt Text](https://raw.githubusercontent.com/msfasha/307307-BI-Methods/main/20242-NLP-LLM/images/header.png)"
   ]
  },
  {
   "cell_type": "markdown",
   "id": "546b3fa2",
   "metadata": {},
   "source": [
    "<div style=\"display: flex; justify-content: flex-start; align-items: center;\">\n",
    "   <a href=\"https://github.com/msfasha/307307-BI-Methods/blob/main/20242-NLP-LLM/Part%202%20-%20Introduction%20to%20NNs%20and%20Word%20Embeddings/1-Introduction%20Neural%20Networks%20and%20Word%20Embeddings.ipynb\" target=\"_parent\"><img \n",
    "   src=\"https://colab.research.google.com/assets/colab-badge.svg\" alt=\"Open In Colab\"/></a>\n",
    "</div>"
   ]
  },
  {
   "cell_type": "markdown",
   "id": "63640f64",
   "metadata": {},
   "source": [
    "## The Perceptron"
   ]
  },
  {
   "cell_type": "markdown",
   "id": "e93aa7e7",
   "metadata": {},
   "source": [
    "### Implement the Perceptron using scikit-learn library"
   ]
  },
  {
   "cell_type": "code",
   "execution_count": null,
   "id": "59862a59",
   "metadata": {},
   "outputs": [
    {
     "name": "stdout",
     "output_type": "stream",
     "text": [
      "Weights: [[0.2 0.2]]\n",
      "Bias: [-0.2]\n",
      "Predictions: [0 0 0 1]\n"
     ]
    }
   ],
   "source": [
    "from sklearn.linear_model import Perceptron\n",
    "import numpy as np\n",
    "\n",
    "# Training data for AND gate\n",
    "X = np.array([[0, 0], [0, 1], [1, 0], [1, 1]])\n",
    "y = np.array([0, 0, 0, 1])\n",
    "\n",
    "# Initialize and train Perceptron\n",
    "model = Perceptron(max_iter=100, eta0=0.1, random_state=42)\n",
    "model.fit(X, y)\n",
    "\n",
    "# Results\n",
    "print(\"Weights:\", model.coef_)\n",
    "print(\"Bias:\", model.intercept_)\n",
    "print(\"Predictions:\", model.predict(X))"
   ]
  },
  {
   "cell_type": "markdown",
   "id": "a7b934bb",
   "metadata": {},
   "source": [
    "Note: In the scikit-learn Perceptron, the step function (also called the activation function) is a hard threshold function, and it's built-in.<br>\n",
    "\n",
    "```Python\n",
    "prediction = 1 if output >= 0 else 0"
   ]
  },
  {
   "cell_type": "markdown",
   "id": "d13d83e5",
   "metadata": {},
   "source": [
    "<div style=\"text-align: center;\">\n",
    "    <img src=\"https://raw.githubusercontent.com/msfasha/307307-BI-Methods/main/20242-NLP-LLM/images/perceptron.png\" alt=\"Simple Perceptron\" width=\"500\"/>\n",
    "</div>"
   ]
  },
  {
   "cell_type": "markdown",
   "id": "258c4989",
   "metadata": {},
   "source": [
    "---"
   ]
  },
  {
   "cell_type": "markdown",
   "id": "fb66abb8",
   "metadata": {},
   "source": [
    "## The Mulit-Layer Perceptron - MLP"
   ]
  },
  {
   "cell_type": "markdown",
   "id": "a711cc96",
   "metadata": {},
   "source": [
    "### Solving the XOR Problem using a Neural Network\n",
    "\n",
    "This code demonstrates how to build and train a simple neural network from scratch using NumPy to learn the XOR logic gate."
   ]
  },
  {
   "cell_type": "code",
   "execution_count": null,
   "id": "1b3dcd54",
   "metadata": {},
   "outputs": [
    {
     "name": "stdout",
     "output_type": "stream",
     "text": [
      "Predictions:\n",
      " [0 1 1 0]\n",
      "\n",
      "Weights (input to hidden):\n",
      " [ w11 , w12 ]\n",
      "[ w21 , w22 ]\n",
      " [[ 2.7144501   3.27401218]\n",
      " [-2.73418453 -3.17014048]]\n",
      "\n",
      "Bias hidden:\n",
      " [ 1.21994174 -1.63451199]\n",
      "\n",
      "Weights (hidden to output):\n",
      " [[-4.37775211]\n",
      " [ 4.46553876]]\n",
      "\n",
      "Bias output:\n",
      " [3.61855675]\n"
     ]
    }
   ],
   "source": [
    "from sklearn.neural_network import MLPClassifier\n",
    "import numpy as np\n",
    "\n",
    "# XOR input and output\n",
    "X = np.array([[0, 0], [0, 1], [1, 0], [1, 1]])\n",
    "y = np.array([0, 1, 1, 0])\n",
    "\n",
    "# Define MLP with 1 hidden layer of 2 neurons (minimal config for XOR)\n",
    "mlp = MLPClassifier(hidden_layer_sizes=(2,), activation='tanh',\n",
    "                    solver='adam', learning_rate_init=0.01,\n",
    "                    max_iter=10000, random_state=42)\n",
    "\n",
    "# Train the model\n",
    "mlp.fit(X, y)\n",
    "\n",
    "# Make predictions\n",
    "predictions = mlp.predict(X)\n",
    "\n",
    "print(\"Predictions:\\n\", predictions)\n",
    "print(\"\\nWeights (input to hidden):\\n\", \"[ w11 , w12 ]\\n[ w21 , w22 ]\\n\", mlp.coefs_[0])\n",
    "print(\"\\nBias hidden:\\n\", mlp.intercepts_[0])\n",
    "print(\"\\nWeights (hidden to output):\\n\", mlp.coefs_[1])\n",
    "print(\"\\nBias output:\\n\", mlp.intercepts_[1])\n"
   ]
  },
  {
   "cell_type": "markdown",
   "id": "7c3c2f18",
   "metadata": {},
   "source": [
    "<div style=\"text-align: center;\">\n",
    "    <img src=\"https://raw.githubusercontent.com/msfasha/307307-BI-Methods/main/20242-NLP-LLM/images/mlp.png\" alt=\"Multi Layer Perceptron\" width=\"600\"/>\n",
    "</div>"
   ]
  },
  {
   "cell_type": "markdown",
   "id": "8dee06af",
   "metadata": {},
   "source": [
    "---"
   ]
  },
  {
   "cell_type": "markdown",
   "id": "cedec251",
   "metadata": {},
   "source": [
    "### Testing Fake Embeddings"
   ]
  },
  {
   "cell_type": "code",
   "execution_count": null,
   "id": "2c9dc0d6",
   "metadata": {},
   "outputs": [
    {
     "name": "stdout",
     "output_type": "stream",
     "text": [
      "Similarity(king, queen): 0.9995995265529728\n",
      "Similarity(man, woman): 0.999399810286\n",
      "Similarity(king, apple): 0.5514092058274782\n"
     ]
    }
   ],
   "source": [
    "import numpy as np\n",
    "from sklearn.metrics.pairwise import cosine_similarity\n",
    "\n",
    "# Fake word vectors (3D for simplicity)\n",
    "word_vectors = {\n",
    "  \"king\": np.array([0.8, 0.65, 0.1]),\n",
    "   \"queen\": np.array([0.78, 0.66, 0.12]), \n",
    "   \"man\": np.array([0.9, 0.1, 0.1]),\n",
    "   \"woman\": np.array([0.88, 0.12, 0.12]),\n",
    "  \"apple\": np.array([0.1, 0.8, 0.9]),\n",
    "}\n",
    "\n",
    "def similarity(w1, w2):\n",
    "\treturn cosine_similarity([word_vectors[w1]], [word_vectors[w2]])[0][0]\n",
    "\n",
    "print(\"Similarity(king, queen):\", similarity(\"king\", \"queen\"))\n",
    "print(\"Similarity(man, woman):\", similarity(\"man\", \"woman\"))\n",
    "print(\"Similarity(king, apple):\", similarity(\"king\", \"apple\"))"
   ]
  },
  {
   "cell_type": "markdown",
   "id": "6e4cb051",
   "metadata": {},
   "source": [
    "#### Convert data into 2-Dimensions and Visualize using a scatter plot"
   ]
  },
  {
   "cell_type": "markdown",
   "id": "adc4907c",
   "metadata": {},
   "source": [
    "We can use the PCA technique to reduce the dimensions of the vectors and concentrate on the most important dimensions e.g. 2 dimensions out of 10.\n",
    "\n",
    "The we can use the resulting 2-dimensions in visualizing our data in a 2-D plot i.e. Scatter Plot"
   ]
  },
  {
   "cell_type": "code",
   "execution_count": null,
   "id": "d7fe4f7b",
   "metadata": {},
   "outputs": [
    {
     "data": {
      "image/png": "[encoded data removed]",
      "text/plain": [
       "<Figure size 800x600 with 1 Axes>"
      ]
     },
     "metadata": {},
     "output_type": "display_data"
    }
   ],
   "source": [
    "import numpy as np\n",
    "import matplotlib.pyplot as plt\n",
    "from sklearn.metrics.pairwise import cosine_similarity\n",
    "from sklearn.decomposition import PCA \n",
    "\n",
    "# Prepare data\n",
    "words = list(word_vectors.keys())\n",
    "vectors = np.array(list(word_vectors.values())) # values of the dictionary needs to be converted to a numpy array\n",
    "\n",
    "# Apply PCA to reduce to 2D\n",
    "pca = PCA(n_components=2)\n",
    "vectors_2d = pca.fit_transform(vectors)\n",
    "\n",
    "# Plot\n",
    "plt.figure(figsize=(8,6))\n",
    "for i, word in enumerate(words):\n",
    "    x, y = vectors_2d[i]\n",
    "    plt.scatter(x, y)\n",
    "    plt.text(x + 0.02, y + 0.02, word, fontsize=12)\n",
    "\n",
    "plt.title(\"Word Embeddings Visualized with PCA\")\n",
    "plt.xlabel(\"PCA 1\")\n",
    "plt.ylabel(\"PCA 2\")\n",
    "plt.grid(True)\n",
    "plt.show()"
   ]
  },
  {
   "cell_type": "markdown",
   "id": "830a3b32",
   "metadata": {},
   "source": [
    "---"
   ]
  },
  {
   "cell_type": "markdown",
   "id": "f908610a",
   "metadata": {},
   "source": [
    "## Building Word Embeddings from Scratch\n",
    "We can build word embeddings from sratch using a corpus of our own and using gensim library to build Word2Vec representations."
   ]
  },
  {
   "cell_type": "markdown",
   "id": "bc0455fb",
   "metadata": {},
   "source": [
    "First, we need to install gensim library"
   ]
  },
  {
   "cell_type": "code",
   "execution_count": null,
   "id": "a29fca44",
   "metadata": {},
   "outputs": [],
   "source": [
    "# This code can run on local machine\n",
    "#%pip install gensim"
   ]
  },
  {
   "cell_type": "markdown",
   "id": "0053491b",
   "metadata": {},
   "source": [
    "> If faced with compatibility issues in Google Colab, run the code below"
   ]
  },
  {
   "cell_type": "code",
   "execution_count": null,
   "id": "62a017eb",
   "metadata": {},
   "outputs": [],
   "source": [
    "# This code is used to fix the issue with gensim version on Google Colab\n",
    "%pip uninstall -y gensim\n",
    "%pip install --force-reinstall \"scipy<1.11\" \"gensim==4.3.2\""
   ]
  },
  {
   "cell_type": "markdown",
   "id": "24e1961c",
   "metadata": {},
   "source": [
    "#### Example 1 - Simple Tokenized Corpus"
   ]
  },
  {
   "cell_type": "code",
   "execution_count": null,
   "id": "ccf78e4d",
   "metadata": {},
   "outputs": [
    {
     "name": "stdout",
     "output_type": "stream",
     "text": [
      "Vector for 'data':\n",
      " [-0.01723938  0.00733148  0.01037977  0.01148388  0.01493384 -0.01233535\n",
      "  0.00221123  0.01209456 -0.0056801  -0.01234705 -0.00082045 -0.0167379\n",
      " -0.01120002  0.01420908  0.00670508  0.01445134  0.01360049  0.01506148\n",
      " -0.00757831 -0.00112361  0.00469675 -0.00903806  0.01677746 -0.01971633\n",
      "  0.01352928  0.00582883 -0.00986566  0.00879638 -0.00347915  0.01342277\n",
      "  0.0199297  -0.00872489 -0.00119868 -0.01139127  0.00770164  0.00557325\n",
      "  0.01378215  0.01220219  0.01907699  0.01854683  0.01579614 -0.01397901\n",
      " -0.01831173 -0.00071151 -0.00619968  0.01578863  0.01187715 -0.00309133\n",
      "  0.00302193  0.00358008]\n",
      "Words similar to 'data': [('are', 0.16563551127910614), ('fun', 0.13940520584583282), ('learning', 0.1267007291316986), ('powerful', 0.08872982114553452), ('is', 0.011071977205574512), ('and', -0.027849990874528885), ('science', -0.0372748002409935), ('related', -0.15515568852424622), ('machine', -0.2187294214963913)]\n"
     ]
    }
   ],
   "source": [
    "from gensim.models import Word2Vec\n",
    "\n",
    "# Sample corpus\n",
    "sentences = [\n",
    "    ['data', 'science', 'is', 'fun'],\n",
    "    ['machine', 'learning', 'is', 'powerful'],\n",
    "    ['data', 'and', 'learning', 'are', 'related']\n",
    "]\n",
    "\n",
    "# Train the model\n",
    "model = Word2Vec(sentences, vector_size=50, window=2, min_count=1, workers=2)\n",
    "\n",
    "# Access the embedding for a word\n",
    "print(\"Vector for 'data':\\n\", model.wv['data'])\n",
    "\n",
    "# Find similar words\n",
    "print(\"Words similar to 'data':\", model.wv.most_similar('data'))"
   ]
  },
  {
   "cell_type": "markdown",
   "id": "78f37c1f",
   "metadata": {},
   "source": [
    "### Example 2 - Build Word2Vec based on an Un-Tokenized Corpus"
   ]
  },
  {
   "cell_type": "markdown",
   "id": "4f4e48c1",
   "metadata": {},
   "source": [
    "The code below uses the gensim library to build word embeddings using Word2Vec models from scratch.<br>\n",
    "It uses a text corpus to learn word similarities."
   ]
  },
  {
   "cell_type": "markdown",
   "id": "3273645e",
   "metadata": {},
   "source": [
    "First, we need to install nltk to tokenize our text."
   ]
  },
  {
   "cell_type": "code",
   "execution_count": null,
   "id": "eca0639e",
   "metadata": {},
   "outputs": [
    {
     "name": "stdout",
     "output_type": "stream",
     "text": [
      "Requirement already satisfied: nltk in c:\\users\\me\\appdata\\local\\programs\\python\\python310\\lib\\site-packages (3.9.1)\n",
      "Requirement already satisfied: click in c:\\users\\me\\appdata\\local\\programs\\python\\python310\\lib\\site-packages (from nltk) (8.1.8)\n",
      "Requirement already satisfied: regex>=2021.8.3 in c:\\users\\me\\appdata\\local\\programs\\python\\python310\\lib\\site-packages (from nltk) (2024.11.6)\n",
      "Requirement already satisfied: tqdm in c:\\users\\me\\appdata\\local\\programs\\python\\python310\\lib\\site-packages (from nltk) (4.67.1)\n",
      "Requirement already satisfied: joblib in c:\\users\\me\\appdata\\local\\programs\\python\\python310\\lib\\site-packages (from nltk) (1.4.2)\n",
      "Requirement already satisfied: colorama in c:\\users\\me\\appdata\\roaming\\python\\python310\\site-packages (from click->nltk) (0.4.6)\n",
      "Note: you may need to restart the kernel to use updated packages.\n"
     ]
    },
    {
     "name": "stderr",
     "output_type": "stream",
     "text": [
      "WARNING: You are using pip version 21.2.3; however, version 25.0.1 is available.\n",
      "You should consider upgrading via the 'c:\\Users\\me\\AppData\\Local\\Programs\\Python\\Python310\\python.exe -m pip install --upgrade pip' command.\n",
      "[nltk_data] Downloading package punkt_tab to\n",
      "[nltk_data]     C:\\Users\\me\\AppData\\Roaming\\nltk_data...\n",
      "[nltk_data]   Package punkt_tab is already up-to-date!\n"
     ]
    },
    {
     "data": {
      "text/plain": [
       "True"
      ]
     },
     "execution_count": 5,
     "metadata": {},
     "output_type": "execute_result"
    }
   ],
   "source": [
    "%pip install nltk\n",
    "\n",
    "import nltk\n",
    "nltk.download('punkt_tab')"
   ]
  },
  {
   "cell_type": "code",
   "execution_count": null,
   "id": "6dd6d098",
   "metadata": {},
   "outputs": [
    {
     "name": "stdout",
     "output_type": "stream",
     "text": [
      "\n",
      "Vector for 'business' (first 10 dimensions):\n",
      "[ 0.00816812 -0.00444303  0.00898543  0.00825366 -0.00443522  0.00030311\n",
      "  0.00427449 -0.00392632 -0.00555997 -0.00651232]\n",
      "Words most similar to 'language':\n",
      "natural: 0.2196\n",
      "between: 0.2167\n",
      "resources: 0.1955\n",
      "distributed: 0.1696\n",
      "significant: 0.1522\n"
     ]
    }
   ],
   "source": [
    "import gensim\n",
    "from gensim.models import Word2Vec\n",
    "from nltk.tokenize import word_tokenize\n",
    "\n",
    "# Sample corpus\n",
    "sentences = [\n",
    "    \"Large language models are transforming business applications\",\n",
    "    \"Natural language processing helps computers understand human language\",\n",
    "    \"Word embeddings capture semantic relationships between words\",\n",
    "    \"Neural networks learn distributed representations of words\",\n",
    "    \"Businesses use language models for various applications\",\n",
    "    \"Customer service can be improved with language technology\",\n",
    "    \"Modern language models require significant computing resources\",\n",
    "    \"Language models can generate human-like text for businesses\"\n",
    "]\n",
    "\n",
    "# Tokenize the sentences\n",
    "tokenized_sentences = [word_tokenize(sentence.lower()) for sentence in sentences]\n",
    "\n",
    "# Train Word2Vec model\n",
    "model = Word2Vec(\n",
    "    sentences=tokenized_sentences,\n",
    "    vector_size=100,    # Embedding dimension\n",
    "    window=5,           # Context window size\n",
    "    min_count=1,        # Minimum word frequency\n",
    "    workers=4           # Number of threads\n",
    ")\n",
    "\n",
    "# Save the model\n",
    "model.save(\"word2vec.model\")"
   ]
  },
  {
   "cell_type": "markdown",
   "id": "8ba3f5d8",
   "metadata": {},
   "source": [
    "#### Display vector for a specific word"
   ]
  },
  {
   "cell_type": "code",
   "execution_count": null,
   "id": "5525de14",
   "metadata": {},
   "outputs": [
    {
     "name": "stdout",
     "output_type": "stream",
     "text": [
      "\n",
      "Vector for 'business' (first 10 dimensions):\n",
      "[ 0.00816812 -0.00444303  0.00898543  0.00825366 -0.00443522  0.00030311\n",
      "  0.00427449 -0.00392632 -0.00555997 -0.00651232]\n"
     ]
    }
   ],
   "source": [
    "word_vector = model.wv[\"business\"]\n",
    "print(f\"\\nVector for 'business' (first 10 dimensions):\\n{word_vector[:10]}\") # Print first 10 dimensions"
   ]
  },
  {
   "cell_type": "markdown",
   "id": "e8d2d812",
   "metadata": {},
   "source": [
    "#### Find the most similar words to \"language\""
   ]
  },
  {
   "cell_type": "code",
   "execution_count": 19,
   "id": "bea26e46",
   "metadata": {},
   "outputs": [
    {
     "name": "stdout",
     "output_type": "stream",
     "text": [
      "Words most similar to 'language':\n",
      "natural: 0.2196\n",
      "between: 0.2167\n",
      "resources: 0.1955\n",
      "distributed: 0.1696\n",
      "significant: 0.1522\n"
     ]
    }
   ],
   "source": [
    "similar_words = model.wv.most_similar(\"language\", topn=5)\n",
    "print(\"Words most similar to 'language':\")\n",
    "for word, similarity in similar_words:\n",
    "    print(f\"{word}: {similarity:.4f}\")"
   ]
  },
  {
   "cell_type": "markdown",
   "id": "72dfd0fb",
   "metadata": {},
   "source": [
    "#### Word Analogies"
   ]
  },
  {
   "cell_type": "markdown",
   "id": "aafdf4df",
   "metadata": {},
   "source": [
    "The following code performs a **word analogy** task using a trained Word2Vec model:\n",
    "\n",
    "```python\n",
    "analogy_result = model.wv.most_similar(\n",
    "    positive=[\"business\", \"language\"],\n",
    "    negative=[\"models\"],\n",
    "    topn=3\n",
    ")\n",
    "```\n",
    "\n",
    "In this operation:\n",
    "\n",
    "- Words in the `positive` list (\"business\" and \"language\") are **added** together in the vector space.\n",
    "- Words in the `negative` list (\"models\") are **subtracted** from the combined meaning.\n",
    "- The method then searches for the **top 3 words** (`topn=3`) whose vectors are **most similar** to the resulting vector.\n",
    "\n",
    "Mathematically, this is equivalent to:\n",
    "\n",
    "```\n",
    "result_vector = vector(\"business\") + vector(\"language\") - vector(\"models\")\n",
    "```\n",
    "\n",
    "The function `most_similar()` uses **cosine similarity** to find the words whose embeddings are closest to this resulting vector.\n",
    "\n",
    "This type of operation allows Word2Vec to capture **semantic relationships** between words. A classic example is:\n",
    "\n",
    "```\n",
    "vector(\"king\") - vector(\"man\") + vector(\"woman\") ≈ vector(\"queen\")\n",
    "```\n",
    "\n",
    "Thus, the analogy result provides words that are semantically similar to the combination of \"business\" and \"language,\" but unrelated to \"models.\""
   ]
  },
  {
   "cell_type": "code",
   "execution_count": 18,
   "id": "e45af613",
   "metadata": {},
   "outputs": [
    {
     "name": "stdout",
     "output_type": "stream",
     "text": [
      "\n",
      "Analogy results:\n",
      "neural: 0.2595\n",
      "natural: 0.2004\n",
      "resources: 0.1899\n"
     ]
    }
   ],
   "source": [
    "# Word analogies\n",
    "analogy_result = model.wv.most_similar(\n",
    "    positive=[\"business\", \"language\"],\n",
    "    negative=[\"models\"],\n",
    "    topn=3\n",
    ")\n",
    "print(\"\\nAnalogy results:\")\n",
    "for word, similarity in analogy_result:\n",
    "    print(f\"{word}: {similarity:.4f}\")"
   ]
  },
  {
   "cell_type": "markdown",
   "id": "8e39a93a",
   "metadata": {},
   "source": [
    "---"
   ]
  },
  {
   "cell_type": "markdown",
   "id": "470336fa",
   "metadata": {},
   "source": [
    "#### Use Real Embeddings - Gensim library"
   ]
  },
  {
   "cell_type": "markdown",
   "id": "ae50fda4",
   "metadata": {},
   "source": [
    "For this example, we will use the `word2vec-google-news-300` model. <br>\n",
    "The `word2vec-google-news-300` model is a **pre-trained Word2Vec model** created by Google.  \n",
    "It has the following characteristics:\n",
    "\n",
    "- **Training data**: Trained on approximately **100 billion words** from the **Google News** dataset.\n",
    "- **Vector size**: Each word is represented as a **300-dimensional** vector.\n",
    "- **Vocabulary size**: It contains **about 3 million unique words and phrases**.\n",
    "- **Training method**: It uses the **skip-gram** Word2Vec architecture to predict context words given a target word.\n",
    "- It's a little **heavy**, about 1.5 GB, so it’s good to know the best way to handle it.\n",
    "\n",
    "This model captures a wide range of **semantic** and **syntactic** relationships between words.  \n",
    "Because it is trained on a large and diverse corpus, it is widely used for many natural language processing (NLP) tasks where high-quality word embeddings are required."
   ]
  },
  {
   "cell_type": "code",
   "execution_count": 22,
   "id": "d2dcc38d",
   "metadata": {},
   "outputs": [
    {
     "name": "stdout",
     "output_type": "stream",
     "text": [
      "Words similar to 'computer':\n",
      "computers: 0.7979\n",
      "laptop: 0.6640\n",
      "laptop_computer: 0.6549\n",
      "Computer: 0.6473\n",
      "com_puter: 0.6082\n",
      "\n",
      "Result of analogy (king - man + woman):\n",
      "queen: 0.7118\n",
      "\n",
      "Odd one out in ['breakfast', 'lunch', 'dinner', 'car']: car\n",
      "\n",
      "Similarity between 'coffee' and 'tea': 0.5635\n"
     ]
    }
   ],
   "source": [
    "import gensim.downloader as api\n",
    "\n",
    "# Load the pre-trained Word2Vec model\n",
    "word2vec_model = api.load(\"word2vec-google-news-300\")\n",
    "\n",
    "# Find words similar to 'computer'\n",
    "similar_words = word2vec_model.most_similar('computer', topn=5)\n",
    "print(\"Words similar to 'computer':\")\n",
    "for word, similarity in similar_words:\n",
    "    print(f\"{word}: {similarity:.4f}\")\n",
    "\n",
    "# Example of a word analogy: king - man + woman = ?\n",
    "analogy_result = word2vec_model.most_similar(positive=['woman', 'king'], negative=['man'], topn=1)\n",
    "print(\"\\nResult of analogy (king - man + woman):\")\n",
    "for word, similarity in analogy_result:\n",
    "    print(f\"{word}: {similarity:.4f}\")\n",
    "\n",
    "# Find odd one out\n",
    "odd_one_out = word2vec_model.doesnt_match([\"breakfast\", \"lunch\", \"dinner\", \"car\"])\n",
    "print(\"\\nOdd one out in ['breakfast', 'lunch', 'dinner', 'car']:\", odd_one_out)\n",
    "\n",
    "# Compute similarity between two words\n",
    "similarity_score = word2vec_model.similarity('coffee', 'tea')\n",
    "print(f\"\\nSimilarity between 'coffee' and 'tea': {similarity_score:.4f}\")"
   ]
  },
  {
   "cell_type": "markdown",
   "id": "a6792dc4",
   "metadata": {},
   "source": [
    "#### Use Real Embeddings - Spacy library"
   ]
  },
  {
   "cell_type": "markdown",
   "id": "97783fab",
   "metadata": {},
   "source": [
    "Download spacy and the required libraries"
   ]
  },
  {
   "cell_type": "code",
   "execution_count": null,
   "id": "6f770dcc",
   "metadata": {},
   "outputs": [
    {
     "name": "stdout",
     "output_type": "stream",
     "text": [
      "Requirement already satisfied: spacy in c:\\users\\me\\appdata\\local\\programs\\python\\python310\\lib\\site-packages (3.8.5)\n",
      "Requirement already satisfied: weasel<0.5.0,>=0.1.0 in c:\\users\\me\\appdata\\local\\programs\\python\\python310\\lib\\site-packages (from spacy) (0.4.1)\n",
      "Requirement already satisfied: packaging>=20.0 in c:\\users\\me\\appdata\\roaming\\python\\python310\\site-packages (from spacy) (24.2)\n",
      "Requirement already satisfied: srsly<3.0.0,>=2.4.3 in c:\\users\\me\\appdata\\local\\programs\\python\\python310\\lib\\site-packages (from spacy) (2.5.1)\n",
      "Requirement already satisfied: pydantic!=1.8,!=1.8.1,<3.0.0,>=1.7.4 in c:\\users\\me\\appdata\\local\\programs\\python\\python310\\lib\\site-packages (from spacy) (2.11.3)\n",
      "Requirement already satisfied: cymem<2.1.0,>=2.0.2 in c:\\users\\me\\appdata\\local\\programs\\python\\python310\\lib\\site-packages (from spacy) (2.0.11)\n",
      "Requirement already satisfied: spacy-loggers<2.0.0,>=1.0.0 in c:\\users\\me\\appdata\\local\\programs\\python\\python310\\lib\\site-packages (from spacy) (1.0.5)\n",
      "Requirement already satisfied: requests<3.0.0,>=2.13.0 in c:\\users\\me\\appdata\\local\\programs\\python\\python310\\lib\\site-packages (from spacy) (2.32.3)\n",
      "Requirement already satisfied: setuptools in c:\\users\\me\\appdata\\local\\programs\\python\\python310\\lib\\site-packages (from spacy) (57.4.0)\n",
      "Requirement already satisfied: murmurhash<1.1.0,>=0.28.0 in c:\\users\\me\\appdata\\local\\programs\\python\\python310\\lib\\site-packages (from spacy) (1.0.12)\n",
      "Requirement already satisfied: spacy-legacy<3.1.0,>=3.0.11 in c:\\users\\me\\appdata\\local\\programs\\python\\python310\\lib\\site-packages (from spacy) (3.0.12)\n",
      "Requirement already satisfied: wasabi<1.2.0,>=0.9.1 in c:\\users\\me\\appdata\\local\\programs\\python\\python310\\lib\\site-packages (from spacy) (1.1.3)\n",
      "Requirement already satisfied: jinja2 in c:\\users\\me\\appdata\\local\\programs\\python\\python310\\lib\\site-packages (from spacy) (3.1.6)\n",
      "Requirement already satisfied: tqdm<5.0.0,>=4.38.0 in c:\\users\\me\\appdata\\local\\programs\\python\\python310\\lib\\site-packages (from spacy) (4.67.1)\n",
      "Requirement already satisfied: preshed<3.1.0,>=3.0.2 in c:\\users\\me\\appdata\\local\\programs\\python\\python310\\lib\\site-packages (from spacy) (3.0.9)\n",
      "Requirement already satisfied: catalogue<2.1.0,>=2.0.6 in c:\\users\\me\\appdata\\local\\programs\\python\\python310\\lib\\site-packages (from spacy) (2.0.10)\n",
      "Requirement already satisfied: thinc<8.4.0,>=8.3.4 in c:\\users\\me\\appdata\\local\\programs\\python\\python310\\lib\\site-packages (from spacy) (8.3.6)\n",
      "Requirement already satisfied: typer<1.0.0,>=0.3.0 in c:\\users\\me\\appdata\\local\\programs\\python\\python310\\lib\\site-packages (from spacy) (0.15.2)\n",
      "Requirement already satisfied: numpy>=1.19.0 in c:\\users\\me\\appdata\\local\\programs\\python\\python310\\lib\\site-packages (from spacy) (1.26.4)\n",
      "Requirement already satisfied: langcodes<4.0.0,>=3.2.0 in c:\\users\\me\\appdata\\local\\programs\\python\\python310\\lib\\site-packages (from spacy) (3.5.0)\n",
      "Requirement already satisfied: language-data>=1.2 in c:\\users\\me\\appdata\\local\\programs\\python\\python310\\lib\\site-packages (from langcodes<4.0.0,>=3.2.0->spacy) (1.3.0)\n",
      "Requirement already satisfied: marisa-trie>=1.1.0 in c:\\users\\me\\appdata\\local\\programs\\python\\python310\\lib\\site-packages (from language-data>=1.2->langcodes<4.0.0,>=3.2.0->spacy) (1.2.1)\n",
      "Requirement already satisfied: typing-inspection>=0.4.0 in c:\\users\\me\\appdata\\local\\programs\\python\\python310\\lib\\site-packages (from pydantic!=1.8,!=1.8.1,<3.0.0,>=1.7.4->spacy) (0.4.0)\n",
      "Requirement already satisfied: annotated-types>=0.6.0 in c:\\users\\me\\appdata\\local\\programs\\python\\python310\\lib\\site-packages (from pydantic!=1.8,!=1.8.1,<3.0.0,>=1.7.4->spacy) (0.7.0)\n",
      "Requirement already satisfied: typing-extensions>=4.12.2 in c:\\users\\me\\appdata\\roaming\\python\\python310\\site-packages (from pydantic!=1.8,!=1.8.1,<3.0.0,>=1.7.4->spacy) (4.13.2)\n",
      "Requirement already satisfied: pydantic-core==2.33.1 in c:\\users\\me\\appdata\\local\\programs\\python\\python310\\lib\\site-packages (from pydantic!=1.8,!=1.8.1,<3.0.0,>=1.7.4->spacy) (2.33.1)\n",
      "Requirement already satisfied: certifi>=2017.4.17 in c:\\users\\me\\appdata\\local\\programs\\python\\python310\\lib\\site-packages (from requests<3.0.0,>=2.13.0->spacy) (2025.1.31)\n",
      "Requirement already satisfied: charset-normalizer<4,>=2 in c:\\users\\me\\appdata\\local\\programs\\python\\python310\\lib\\site-packages (from requests<3.0.0,>=2.13.0->spacy) (3.4.1)\n",
      "Requirement already satisfied: urllib3<3,>=1.21.1 in c:\\users\\me\\appdata\\local\\programs\\python\\python310\\lib\\site-packages (from requests<3.0.0,>=2.13.0->spacy) (2.4.0)\n",
      "Requirement already satisfied: idna<4,>=2.5 in c:\\users\\me\\appdata\\local\\programs\\python\\python310\\lib\\site-packages (from requests<3.0.0,>=2.13.0->spacy) (3.10)\n",
      "Collecting numpy>=1.19.0\n",
      "  Using cached numpy-2.2.5-cp310-cp310-win_amd64.whl (12.9 MB)\n",
      "Requirement already satisfied: blis<1.4.0,>=1.3.0 in c:\\users\\me\\appdata\\local\\programs\\python\\python310\\lib\\site-packages (from thinc<8.4.0,>=8.3.4->spacy) (1.3.0)\n",
      "Requirement already satisfied: confection<1.0.0,>=0.0.1 in c:\\users\\me\\appdata\\local\\programs\\python\\python310\\lib\\site-packages (from thinc<8.4.0,>=8.3.4->spacy) (0.1.5)\n",
      "Requirement already satisfied: colorama in c:\\users\\me\\appdata\\roaming\\python\\python310\\site-packages (from tqdm<5.0.0,>=4.38.0->spacy) (0.4.6)\n",
      "Requirement already satisfied: click>=8.0.0 in c:\\users\\me\\appdata\\local\\programs\\python\\python310\\lib\\site-packages (from typer<1.0.0,>=0.3.0->spacy) (8.1.8)\n",
      "Requirement already satisfied: rich>=10.11.0 in c:\\users\\me\\appdata\\local\\programs\\python\\python310\\lib\\site-packages (from typer<1.0.0,>=0.3.0->spacy) (14.0.0)\n",
      "Requirement already satisfied: shellingham>=1.3.0 in c:\\users\\me\\appdata\\local\\programs\\python\\python310\\lib\\site-packages (from typer<1.0.0,>=0.3.0->spacy) (1.5.4)\n",
      "Requirement already satisfied: markdown-it-py>=2.2.0 in c:\\users\\me\\appdata\\local\\programs\\python\\python310\\lib\\site-packages (from rich>=10.11.0->typer<1.0.0,>=0.3.0->spacy) (3.0.0)\n",
      "Requirement already satisfied: pygments<3.0.0,>=2.13.0 in c:\\users\\me\\appdata\\roaming\\python\\python310\\site-packages (from rich>=10.11.0->typer<1.0.0,>=0.3.0->spacy) (2.19.1)\n",
      "Requirement already satisfied: mdurl~=0.1 in c:\\users\\me\\appdata\\local\\programs\\python\\python310\\lib\\site-packages (from markdown-it-py>=2.2.0->rich>=10.11.0->typer<1.0.0,>=0.3.0->spacy) (0.1.2)\n",
      "Requirement already satisfied: cloudpathlib<1.0.0,>=0.7.0 in c:\\users\\me\\appdata\\local\\programs\\python\\python310\\lib\\site-packages (from weasel<0.5.0,>=0.1.0->spacy) (0.21.0)\n",
      "Requirement already satisfied: smart-open<8.0.0,>=5.2.1 in c:\\users\\me\\appdata\\local\\programs\\python\\python310\\lib\\site-packages (from weasel<0.5.0,>=0.1.0->spacy) (7.1.0)\n",
      "Requirement already satisfied: wrapt in c:\\users\\me\\appdata\\local\\programs\\python\\python310\\lib\\site-packages (from smart-open<8.0.0,>=5.2.1->weasel<0.5.0,>=0.1.0->spacy) (1.17.2)\n",
      "Requirement already satisfied: MarkupSafe>=2.0 in c:\\users\\me\\appdata\\local\\programs\\python\\python310\\lib\\site-packages (from jinja2->spacy) (3.0.2)\n",
      "Installing collected packages: numpy\n",
      "  Attempting uninstall: numpy\n",
      "    Found existing installation: numpy 1.26.4\n",
      "    Uninstalling numpy-1.26.4:\n",
      "      Successfully uninstalled numpy-1.26.4\n",
      "Note: you may need to restart the kernel to use updated packages.\n"
     ]
    },
    {
     "name": "stderr",
     "output_type": "stream",
     "text": [
      "  WARNING: The scripts f2py.exe and numpy-config.exe are installed in 'c:\\Users\\me\\AppData\\Local\\Programs\\Python\\Python310\\Scripts' which is not on PATH.\n",
      "  Consider adding this directory to PATH or, if you prefer to suppress this warning, use --no-warn-script-location.\n",
      "ERROR: Could not install packages due to an OSError: [WinError 5] Access is denied: 'C:\\\\Users\\\\me\\\\AppData\\\\Local\\\\Programs\\\\Python\\\\Python310\\\\Lib\\\\site-packages\\\\~~mpy.libs\\\\libopenblas64__v0.3.23-293-gc2f4bdbb-gcc_10_3_0-2bde3a66a51006b2b53eb373ff767a3f.dll'\n",
      "Consider using the `--user` option or check the permissions.\n",
      "\n",
      "WARNING: You are using pip version 21.2.3; however, version 25.0.1 is available.\n",
      "You should consider upgrading via the 'c:\\Users\\me\\AppData\\Local\\Programs\\Python\\Python310\\python.exe -m pip install --upgrade pip' command.\n"
     ]
    },
    {
     "name": "stdout",
     "output_type": "stream",
     "text": [
      "Collecting en-core-web-md==3.8.0\n",
      "  Downloading https://github.com/explosion/spacy-models/releases/download/en_core_web_md-3.8.0/en_core_web_md-3.8.0-py3-none-any.whl (33.5 MB)\n",
      "\u001b[38;5;2m✔ Download and installation successful\u001b[0m\n",
      "You can now load the package via spacy.load('en_core_web_md')\n"
     ]
    },
    {
     "name": "stderr",
     "output_type": "stream",
     "text": [
      "WARNING: You are using pip version 21.2.3; however, version 25.0.1 is available.\n",
      "You should consider upgrading via the 'c:\\Users\\me\\AppData\\Local\\Programs\\Python\\Python310\\python.exe -m pip install --upgrade pip' command.\n"
     ]
    }
   ],
   "source": [
    "%pip install spacy\n",
    "!python -m spacy download en_core_web_md"
   ]
  },
  {
   "cell_type": "code",
   "execution_count": 23,
   "id": "2f0dcd0b",
   "metadata": {},
   "outputs": [
    {
     "name": "stdout",
     "output_type": "stream",
     "text": [
      "Similarity: 0.38253095611315674\n"
     ]
    }
   ],
   "source": [
    "import spacy\n",
    "nlp = spacy.load(\"en_core_web_md\")\n",
    "\n",
    "word1 = nlp(\"king\")\n",
    "word2 = nlp(\"queen\")\n",
    "print(\"Similarity:\", word1.similarity(word2))"
   ]
  }
 ],
 "metadata": {
  "kernelspec": {
   "display_name": "Python (myenv310)",
   "language": "python",
   "name": "myenv310"
  },
  "language_info": {
   "codemirror_mode": {
    "name": "ipython",
    "version": 3
   },
   "file_extension": ".py",
   "mimetype": "text/x-python",
   "name": "python",
   "nbconvert_exporter": "python",
   "pygments_lexer": "ipython3",
   "version": "3.10.0"
  }
 },
 "nbformat": 4,
 "nbformat_minor": 5
}
