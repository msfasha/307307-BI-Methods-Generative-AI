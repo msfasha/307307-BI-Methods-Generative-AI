{
 "cells": [
  {
   "cell_type": "markdown",
   "id": "2bc54330",
   "metadata": {},
   "source": [
    "![Alt Text](https://raw.githubusercontent.com/msfasha/307307-BI-Methods/main/20242-NLP-LLM/images/header.png)"
   ]
  },
  {
   "cell_type": "markdown",
   "id": "546b3fa2",
   "metadata": {},
   "source": [
    "<div style=\"display: flex; justify-content: flex-start; align-items: center;\">\n",
    "   <a href=\"https://github.com/msfasha/307307-BI-Methods/blob/main/20242-NLP-LLM/Part%204%20-%20LLM%20Applications%20-%20RAG%20and%20Agentic%20AI/1-LLM%20Applications%20-%20RAG%20and%20Agentic%20AI.ipynb\" target=\"_parent\"><img \n",
    "   src=\"https://colab.research.google.com/assets/colab-badge.svg\" alt=\"Open In Colab\"/></a>\n",
    "</div>"
   ]
  },
  {
   "cell_type": "markdown",
   "id": "18351662",
   "metadata": {},
   "source": [
    "### RAG Example"
   ]
  },
  {
   "cell_type": "code",
   "execution_count": null,
   "id": "27409488",
   "metadata": {},
   "outputs": [],
   "source": []
  },
  {
   "cell_type": "markdown",
   "id": "acbd25da",
   "metadata": {},
   "source": [
    "### Agentic AI Example"
   ]
  },
  {
   "cell_type": "markdown",
   "id": "e37c03d3",
   "metadata": {},
   "source": [
    "#### Define the Functions"
   ]
  },
  {
   "cell_type": "code",
   "execution_count": null,
   "id": "836748c6",
   "metadata": {},
   "outputs": [],
   "source": [
    "functions = [\n",
    "  {\n",
    "    \"name\": \"get_weather\",\n",
    "    \"description\": \"Get weather info\",\n",
    "    \"parameters\": {\n",
    "        \"type\": \"object\",\n",
    "        \"properties\": {\n",
    "            \"city\": {\"type\": \"string\"}\n",
    "        },\n",
    "        \"required\": [\"city\"]\n",
    "    }\n",
    "  }\n",
    "]"
   ]
  },
  {
   "cell_type": "markdown",
   "id": "f4040227",
   "metadata": {},
   "source": [
    "#### Call the Agent"
   ]
  },
  {
   "cell_type": "code",
   "execution_count": null,
   "id": "f8832382",
   "metadata": {},
   "outputs": [],
   "source": [
    "import openai\n",
    "\n",
    "openai.api_key = \"your_api_key_here\"\n",
    "\n",
    "response = openai.ChatCompletion.create(\n",
    "  model=\"gpt-4-0613\",\n",
    "  messages=[\n",
    "    {\"role\": \"user\", \"content\": \"What's the weather in Paris?\"}\n",
    "  ],\n",
    "  functions=functions,\n",
    "  function_call=\"auto\"\n",
    ")\n",
    "\n",
    "print(response.choices[0].message)"
   ]
  },
  {
   "cell_type": "markdown",
   "id": "19a95070",
   "metadata": {},
   "source": [
    "### Agentic AI Code Demo — Market Analysis Report"
   ]
  },
  {
   "cell_type": "markdown",
   "id": "a4366b31",
   "metadata": {},
   "source": [
    "Dependencies"
   ]
  },
  {
   "cell_type": "code",
   "execution_count": null,
   "id": "d9aebe09",
   "metadata": {},
   "outputs": [],
   "source": [
    "% pip install langchain openai serpapi"
   ]
  },
  {
   "cell_type": "code",
   "execution_count": null,
   "id": "257d09cd",
   "metadata": {},
   "outputs": [],
   "source": [
    "from langchain.agents import initialize_agent, Tool\n",
    "from langchain.llms import OpenAI\n",
    "from langchain.utilities import SerpAPIWrapper\n",
    "from langchain.chains import LLMChain\n",
    "from langchain.prompts import PromptTemplate\n",
    "\n",
    "# 1. Set up LLM\n",
    "llm = OpenAI(temperature=0)\n",
    "\n",
    "# 2. Set up tools\n",
    "search = SerpAPIWrapper()\n",
    "search_tool = Tool(\n",
    "    name=\"Web Search\",\n",
    "    func=search.run,\n",
    "    description=\"Searches the web for real-time information.\"\n",
    ")\n",
    "\n",
    "# 3. Define summarizer\n",
    "template = \"\"\"\n",
    "You are a market research analyst. Given this data, write a concise analysis paragraph:\n",
    "\n",
    "{input}\n",
    "\"\"\"\n",
    "prompt = PromptTemplate(input_variables=[\"input\"], template=template)\n",
    "summarizer = LLMChain(llm=llm, prompt=prompt)\n",
    "\n",
    "# 4. Define agent with tools\n",
    "agent = initialize_agent(\n",
    "    tools=[search_tool],\n",
    "    llm=llm,\n",
    "    agent=\"zero-shot-react-description\",\n",
    "    verbose=True\n",
    ")\n",
    "\n",
    "# 5. Run the agent\n",
    "query = \"Latest trends in the EV (Electric Vehicle) market 2025\"\n",
    "search_result = agent.run(query)\n",
    "\n",
    "# 6. Summarize the result\n",
    "summary = summarizer.run(search_result)\n",
    "\n",
    "# 7. Output the report\n",
    "report = f\"\"\"\n",
    "Market Analysis Report\n",
    "----------------------\n",
    "Topic: {query}\n",
    "\n",
    "Summary:\n",
    "{summary}\n",
    "\"\"\"\n",
    "\n",
    "print(report)\n"
   ]
  }
 ],
 "metadata": {
  "kernelspec": {
   "display_name": "myenv310",
   "language": "python",
   "name": "python3"
  },
  "language_info": {
   "codemirror_mode": {
    "name": "ipython",
    "version": 3
   },
   "file_extension": ".py",
   "mimetype": "text/x-python",
   "name": "python",
   "nbconvert_exporter": "python",
   "pygments_lexer": "ipython3",
   "version": "3.10.0"
  }
 },
 "nbformat": 4,
 "nbformat_minor": 5
}
