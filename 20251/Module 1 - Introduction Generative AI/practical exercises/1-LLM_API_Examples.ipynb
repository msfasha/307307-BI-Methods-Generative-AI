{
 "cells": [
  {
   "cell_type": "code",
   "execution_count": null,
   "id": "651da710",
   "metadata": {},
   "outputs": [],
   "source": [
    "### LLM API Examples\n",
    "# This script demonstrates how to interact with a LLM API"
   ]
  },
  {
   "cell_type": "markdown",
   "id": "f1eec6c4",
   "metadata": {},
   "source": [
    "First of all, ensure all the required libraries are installed"
   ]
  },
  {
   "cell_type": "code",
   "execution_count": null,
   "id": "d96770a9",
   "metadata": {},
   "outputs": [],
   "source": [
    "pip install google-genai streamlit"
   ]
  },
  {
   "cell_type": "markdown",
   "id": "cd16c584",
   "metadata": {},
   "source": [
    "Setup you API Key"
   ]
  },
  {
   "cell_type": "code",
   "execution_count": null,
   "id": "bdb096fc",
   "metadata": {},
   "outputs": [],
   "source": [
    "my_api_key = \"YOUR_API_KEY_HERE\""
   ]
  },
  {
   "cell_type": "markdown",
   "id": "9550e81d",
   "metadata": {},
   "source": [
    "#### Test API Calling"
   ]
  },
  {
   "cell_type": "code",
   "execution_count": null,
   "id": "0928c618",
   "metadata": {},
   "outputs": [],
   "source": [
    "from google import genai\n",
    "from google.genai import types\n",
    "\n",
    "# Initialize the client with your API key\n",
    "client = genai.Client(api_key= my_api_key)\n",
    "\n",
    "response = client.models.generate_content(\n",
    "    model=\"gemini-2.5-flash\",\n",
    "    contents=\"Explain how AI works in a few words\",\n",
    "    config=types.GenerateContentConfig(\n",
    "        thinking_config=types.ThinkingConfig(thinking_budget=0) # Disables thinking, making the response faster but less accurate\n",
    "    ),\n",
    ")\n",
    "print(response.text)"
   ]
  },
  {
   "cell_type": "markdown",
   "id": "5a9a558d",
   "metadata": {},
   "source": [
    "---"
   ]
  },
  {
   "cell_type": "markdown",
   "id": "f3a59aa9",
   "metadata": {},
   "source": [
    "#### Ask Agent Loop"
   ]
  },
  {
   "cell_type": "code",
   "execution_count": null,
   "id": "6632e4ee",
   "metadata": {},
   "outputs": [],
   "source": [
    "from google import genai\n",
    "from google.genai import types\n",
    "\n",
    "# Choose a model. E.g. “gemini-2.5-flash” or whichever you have access to. :contentReference[oaicite:1]{index=1}\n",
    "MODEL = \"gemini-2.5-flash\"\n",
    "\n",
    "def ask_agent(prompt: str) -> str:\n",
    "\n",
    "    # Initialize the client with your API key\n",
    "    client = genai.Client(api_key=my_api_key)\n",
    "\n",
    "    response = client.models.generate_content(\n",
    "        model=MODEL,\n",
    "        contents=prompt\n",
    "    )\n",
    "    # The client returns a structure; here we extract the generated text\n",
    "    return response.text or \"\"\n",
    "\n",
    "def run_agent():\n",
    "    print(\"Agent ready. Type 'exit' to quit.\")\n",
    "    while True:\n",
    "        user = input(\"You: \")\n",
    "        if user.strip().lower() == \"exit\":\n",
    "            break\n",
    "        reply = ask_agent(user)\n",
    "        print(\"Agent:\", reply)\n",
    "\n",
    "if __name__ == \"__main__\":\n",
    "    run_agent()"
   ]
  },
  {
   "cell_type": "markdown",
   "id": "08ebfa92",
   "metadata": {},
   "source": [
    "---"
   ]
  }
 ],
 "metadata": {
  "kernelspec": {
   "display_name": "Python 3",
   "language": "python",
   "name": "python3"
  },
  "language_info": {
   "codemirror_mode": {
    "name": "ipython",
    "version": 3
   },
   "file_extension": ".py",
   "mimetype": "text/x-python",
   "name": "python",
   "nbconvert_exporter": "python",
   "pygments_lexer": "ipython3",
   "version": "3.12.4"
  }
 },
 "nbformat": 4,
 "nbformat_minor": 5
}
