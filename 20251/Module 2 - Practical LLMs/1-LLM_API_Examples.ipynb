{
 "cells": [
  {
   "cell_type": "markdown",
   "id": "d056e711",
   "metadata": {},
   "source": [
    "<div style=\"display: flex; justify-content: flex-start; align-items: center;\">\n",
    "    <a href=\"https://colab.research.google.com/github/msfasha/307307-BI-Methods-Generative-AI/blob/main/20251/Module%202%20-%20Practical%20LLMs/1-LLM_API_Examples.ipynb\" target=\"_blank\">   \n",
    "        <img src=\"https://colab.research.google.com/assets/colab-badge.svg\" alt=\"Open In Colab\" style=\"height: 25px; margin-right: 20px;\">\n",
    "    </a>\n",
    "</div>"
   ]
  },
  {
   "cell_type": "markdown",
   "id": "5a61216d",
   "metadata": {},
   "source": [
    "## LLM API Examples"
   ]
  },
  {
   "cell_type": "markdown",
   "id": "f1eec6c4",
   "metadata": {},
   "source": [
    "First of all, ensure all the required libraries are installed"
   ]
  },
  {
   "cell_type": "code",
   "execution_count": 2,
   "id": "d96770a9",
   "metadata": {},
   "outputs": [
    {
     "name": "stdout",
     "output_type": "stream",
     "text": [
      "Requirement already satisfied: google-genai in c:\\users\\mohammed.fasha\\appdata\\local\\programs\\python\\python312\\lib\\site-packages (1.44.0)\n",
      "Requirement already satisfied: streamlit in c:\\users\\mohammed.fasha\\appdata\\local\\programs\\python\\python312\\lib\\site-packages (1.50.0)\n",
      "Requirement already satisfied: anyio<5.0.0,>=4.8.0 in c:\\users\\mohammed.fasha\\appdata\\local\\programs\\python\\python312\\lib\\site-packages (from google-genai) (4.11.0)\n",
      "Requirement already satisfied: google-auth<3.0.0,>=2.14.1 in c:\\users\\mohammed.fasha\\appdata\\local\\programs\\python\\python312\\lib\\site-packages (from google-genai) (2.41.1)\n",
      "Requirement already satisfied: httpx<1.0.0,>=0.28.1 in c:\\users\\mohammed.fasha\\appdata\\local\\programs\\python\\python312\\lib\\site-packages (from google-genai) (0.28.1)\n",
      "Requirement already satisfied: pydantic<3.0.0,>=2.0.0 in c:\\users\\mohammed.fasha\\appdata\\local\\programs\\python\\python312\\lib\\site-packages (from google-genai) (2.12.2)\n",
      "Requirement already satisfied: requests<3.0.0,>=2.28.1 in c:\\users\\mohammed.fasha\\appdata\\local\\programs\\python\\python312\\lib\\site-packages (from google-genai) (2.32.5)\n",
      "Requirement already satisfied: tenacity<9.2.0,>=8.2.3 in c:\\users\\mohammed.fasha\\appdata\\local\\programs\\python\\python312\\lib\\site-packages (from google-genai) (9.1.2)\n",
      "Requirement already satisfied: websockets<15.1.0,>=13.0.0 in c:\\users\\mohammed.fasha\\appdata\\local\\programs\\python\\python312\\lib\\site-packages (from google-genai) (15.0.1)\n",
      "Requirement already satisfied: typing-extensions<5.0.0,>=4.11.0 in c:\\users\\mohammed.fasha\\appdata\\local\\programs\\python\\python312\\lib\\site-packages (from google-genai) (4.15.0)\n",
      "Requirement already satisfied: altair!=5.4.0,!=5.4.1,<6,>=4.0 in c:\\users\\mohammed.fasha\\appdata\\local\\programs\\python\\python312\\lib\\site-packages (from streamlit) (5.5.0)\n",
      "Requirement already satisfied: blinker<2,>=1.5.0 in c:\\users\\mohammed.fasha\\appdata\\local\\programs\\python\\python312\\lib\\site-packages (from streamlit) (1.9.0)\n",
      "Requirement already satisfied: cachetools<7,>=4.0 in c:\\users\\mohammed.fasha\\appdata\\local\\programs\\python\\python312\\lib\\site-packages (from streamlit) (6.2.1)\n",
      "Requirement already satisfied: click<9,>=7.0 in c:\\users\\mohammed.fasha\\appdata\\local\\programs\\python\\python312\\lib\\site-packages (from streamlit) (8.3.0)\n",
      "Requirement already satisfied: numpy<3,>=1.23 in c:\\users\\mohammed.fasha\\appdata\\local\\programs\\python\\python312\\lib\\site-packages (from streamlit) (2.3.4)\n",
      "Requirement already satisfied: packaging<26,>=20 in c:\\users\\mohammed.fasha\\appdata\\roaming\\python\\python312\\site-packages (from streamlit) (25.0)\n",
      "Requirement already satisfied: pandas<3,>=1.4.0 in c:\\users\\mohammed.fasha\\appdata\\local\\programs\\python\\python312\\lib\\site-packages (from streamlit) (2.3.3)\n",
      "Requirement already satisfied: pillow<12,>=7.1.0 in c:\\users\\mohammed.fasha\\appdata\\local\\programs\\python\\python312\\lib\\site-packages (from streamlit) (11.3.0)\n",
      "Requirement already satisfied: protobuf<7,>=3.20 in c:\\users\\mohammed.fasha\\appdata\\local\\programs\\python\\python312\\lib\\site-packages (from streamlit) (6.33.0)\n",
      "Requirement already satisfied: pyarrow>=7.0 in c:\\users\\mohammed.fasha\\appdata\\local\\programs\\python\\python312\\lib\\site-packages (from streamlit) (21.0.0)\n",
      "Requirement already satisfied: toml<2,>=0.10.1 in c:\\users\\mohammed.fasha\\appdata\\local\\programs\\python\\python312\\lib\\site-packages (from streamlit) (0.10.2)\n",
      "Requirement already satisfied: watchdog<7,>=2.1.5 in c:\\users\\mohammed.fasha\\appdata\\local\\programs\\python\\python312\\lib\\site-packages (from streamlit) (6.0.0)\n",
      "Requirement already satisfied: gitpython!=3.1.19,<4,>=3.0.7 in c:\\users\\mohammed.fasha\\appdata\\local\\programs\\python\\python312\\lib\\site-packages (from streamlit) (3.1.45)\n",
      "Requirement already satisfied: pydeck<1,>=0.8.0b4 in c:\\users\\mohammed.fasha\\appdata\\local\\programs\\python\\python312\\lib\\site-packages (from streamlit) (0.9.1)\n",
      "Requirement already satisfied: tornado!=6.5.0,<7,>=6.0.3 in c:\\users\\mohammed.fasha\\appdata\\roaming\\python\\python312\\site-packages (from streamlit) (6.5.2)\n",
      "Requirement already satisfied: jinja2 in c:\\users\\mohammed.fasha\\appdata\\local\\programs\\python\\python312\\lib\\site-packages (from altair!=5.4.0,!=5.4.1,<6,>=4.0->streamlit) (3.1.6)\n",
      "Requirement already satisfied: jsonschema>=3.0 in c:\\users\\mohammed.fasha\\appdata\\local\\programs\\python\\python312\\lib\\site-packages (from altair!=5.4.0,!=5.4.1,<6,>=4.0->streamlit) (4.25.1)\n",
      "Requirement already satisfied: narwhals>=1.14.2 in c:\\users\\mohammed.fasha\\appdata\\local\\programs\\python\\python312\\lib\\site-packages (from altair!=5.4.0,!=5.4.1,<6,>=4.0->streamlit) (2.8.0)\n",
      "Requirement already satisfied: idna>=2.8 in c:\\users\\mohammed.fasha\\appdata\\local\\programs\\python\\python312\\lib\\site-packages (from anyio<5.0.0,>=4.8.0->google-genai) (3.11)\n",
      "Requirement already satisfied: sniffio>=1.1 in c:\\users\\mohammed.fasha\\appdata\\local\\programs\\python\\python312\\lib\\site-packages (from anyio<5.0.0,>=4.8.0->google-genai) (1.3.1)\n",
      "Requirement already satisfied: colorama in c:\\users\\mohammed.fasha\\appdata\\roaming\\python\\python312\\site-packages (from click<9,>=7.0->streamlit) (0.4.6)\n",
      "Requirement already satisfied: gitdb<5,>=4.0.1 in c:\\users\\mohammed.fasha\\appdata\\local\\programs\\python\\python312\\lib\\site-packages (from gitpython!=3.1.19,<4,>=3.0.7->streamlit) (4.0.12)\n",
      "Requirement already satisfied: pyasn1-modules>=0.2.1 in c:\\users\\mohammed.fasha\\appdata\\local\\programs\\python\\python312\\lib\\site-packages (from google-auth<3.0.0,>=2.14.1->google-genai) (0.4.2)\n",
      "Requirement already satisfied: rsa<5,>=3.1.4 in c:\\users\\mohammed.fasha\\appdata\\local\\programs\\python\\python312\\lib\\site-packages (from google-auth<3.0.0,>=2.14.1->google-genai) (4.9.1)\n",
      "Requirement already satisfied: certifi in c:\\users\\mohammed.fasha\\appdata\\local\\programs\\python\\python312\\lib\\site-packages (from httpx<1.0.0,>=0.28.1->google-genai) (2025.10.5)\n",
      "Requirement already satisfied: httpcore==1.* in c:\\users\\mohammed.fasha\\appdata\\local\\programs\\python\\python312\\lib\\site-packages (from httpx<1.0.0,>=0.28.1->google-genai) (1.0.9)\n",
      "Requirement already satisfied: h11>=0.16 in c:\\users\\mohammed.fasha\\appdata\\local\\programs\\python\\python312\\lib\\site-packages (from httpcore==1.*->httpx<1.0.0,>=0.28.1->google-genai) (0.16.0)\n",
      "Requirement already satisfied: python-dateutil>=2.8.2 in c:\\users\\mohammed.fasha\\appdata\\roaming\\python\\python312\\site-packages (from pandas<3,>=1.4.0->streamlit) (2.9.0.post0)\n",
      "Requirement already satisfied: pytz>=2020.1 in c:\\users\\mohammed.fasha\\appdata\\local\\programs\\python\\python312\\lib\\site-packages (from pandas<3,>=1.4.0->streamlit) (2025.2)\n",
      "Requirement already satisfied: tzdata>=2022.7 in c:\\users\\mohammed.fasha\\appdata\\local\\programs\\python\\python312\\lib\\site-packages (from pandas<3,>=1.4.0->streamlit) (2025.2)\n",
      "Requirement already satisfied: annotated-types>=0.6.0 in c:\\users\\mohammed.fasha\\appdata\\local\\programs\\python\\python312\\lib\\site-packages (from pydantic<3.0.0,>=2.0.0->google-genai) (0.7.0)\n",
      "Requirement already satisfied: pydantic-core==2.41.4 in c:\\users\\mohammed.fasha\\appdata\\local\\programs\\python\\python312\\lib\\site-packages (from pydantic<3.0.0,>=2.0.0->google-genai) (2.41.4)\n",
      "Requirement already satisfied: typing-inspection>=0.4.2 in c:\\users\\mohammed.fasha\\appdata\\local\\programs\\python\\python312\\lib\\site-packages (from pydantic<3.0.0,>=2.0.0->google-genai) (0.4.2)\n",
      "Requirement already satisfied: charset_normalizer<4,>=2 in c:\\users\\mohammed.fasha\\appdata\\local\\programs\\python\\python312\\lib\\site-packages (from requests<3.0.0,>=2.28.1->google-genai) (3.4.4)\n",
      "Requirement already satisfied: urllib3<3,>=1.21.1 in c:\\users\\mohammed.fasha\\appdata\\local\\programs\\python\\python312\\lib\\site-packages (from requests<3.0.0,>=2.28.1->google-genai) (2.5.0)\n",
      "Requirement already satisfied: smmap<6,>=3.0.1 in c:\\users\\mohammed.fasha\\appdata\\local\\programs\\python\\python312\\lib\\site-packages (from gitdb<5,>=4.0.1->gitpython!=3.1.19,<4,>=3.0.7->streamlit) (5.0.2)\n",
      "Requirement already satisfied: MarkupSafe>=2.0 in c:\\users\\mohammed.fasha\\appdata\\local\\programs\\python\\python312\\lib\\site-packages (from jinja2->altair!=5.4.0,!=5.4.1,<6,>=4.0->streamlit) (3.0.3)\n",
      "Requirement already satisfied: attrs>=22.2.0 in c:\\users\\mohammed.fasha\\appdata\\local\\programs\\python\\python312\\lib\\site-packages (from jsonschema>=3.0->altair!=5.4.0,!=5.4.1,<6,>=4.0->streamlit) (25.4.0)\n",
      "Requirement already satisfied: jsonschema-specifications>=2023.03.6 in c:\\users\\mohammed.fasha\\appdata\\local\\programs\\python\\python312\\lib\\site-packages (from jsonschema>=3.0->altair!=5.4.0,!=5.4.1,<6,>=4.0->streamlit) (2025.9.1)\n",
      "Requirement already satisfied: referencing>=0.28.4 in c:\\users\\mohammed.fasha\\appdata\\local\\programs\\python\\python312\\lib\\site-packages (from jsonschema>=3.0->altair!=5.4.0,!=5.4.1,<6,>=4.0->streamlit) (0.37.0)\n",
      "Requirement already satisfied: rpds-py>=0.7.1 in c:\\users\\mohammed.fasha\\appdata\\local\\programs\\python\\python312\\lib\\site-packages (from jsonschema>=3.0->altair!=5.4.0,!=5.4.1,<6,>=4.0->streamlit) (0.27.1)\n",
      "Requirement already satisfied: pyasn1<0.7.0,>=0.6.1 in c:\\users\\mohammed.fasha\\appdata\\local\\programs\\python\\python312\\lib\\site-packages (from pyasn1-modules>=0.2.1->google-auth<3.0.0,>=2.14.1->google-genai) (0.6.1)\n",
      "Requirement already satisfied: six>=1.5 in c:\\users\\mohammed.fasha\\appdata\\roaming\\python\\python312\\site-packages (from python-dateutil>=2.8.2->pandas<3,>=1.4.0->streamlit) (1.17.0)\n",
      "Note: you may need to restart the kernel to use updated packages.\n"
     ]
    },
    {
     "name": "stderr",
     "output_type": "stream",
     "text": [
      "\n",
      "[notice] A new release of pip is available: 24.0 -> 25.2\n",
      "[notice] To update, run: python.exe -m pip install --upgrade pip\n"
     ]
    }
   ],
   "source": [
    "pip install google-genai streamlit"
   ]
  },
  {
   "cell_type": "markdown",
   "id": "cd16c584",
   "metadata": {},
   "source": [
    "Setup you API Key"
   ]
  },
  {
   "cell_type": "markdown",
   "id": "0a09628c",
   "metadata": {},
   "source": [
    "Write your key manually below"
   ]
  },
  {
   "cell_type": "code",
   "execution_count": 3,
   "id": "bdb096fc",
   "metadata": {},
   "outputs": [],
   "source": [
    "my_api_key = \"YOUR_API_KEY_HERE\""
   ]
  },
  {
   "cell_type": "markdown",
   "id": "32574410",
   "metadata": {},
   "source": [
    "Or get it from Colab secrets if you are using Google Colab"
   ]
  },
  {
   "cell_type": "code",
   "execution_count": null,
   "id": "27e9d845",
   "metadata": {},
   "outputs": [],
   "source": [
    "from google.colab import userdata\n",
    "my_api_key = userdata.get('testing_api_key')"
   ]
  },
  {
   "cell_type": "markdown",
   "id": "9550e81d",
   "metadata": {},
   "source": [
    "#### Test API calling, simple QA"
   ]
  },
  {
   "cell_type": "markdown",
   "id": "342b485b",
   "metadata": {},
   "source": [
    "#### Simple QA"
   ]
  },
  {
   "cell_type": "code",
   "execution_count": null,
   "id": "0928c618",
   "metadata": {},
   "outputs": [],
   "source": [
    "from google import genai\n",
    "from google.genai import types\n",
    "\n",
    "# Initialize the client with your API key\n",
    "client = genai.Client(api_key= my_api_key)\n",
    "\n",
    "response = client.models.generate_content(\n",
    "    model=\"gemini-2.5-flash\",\n",
    "    contents=\"Explain how AI works in a few words\")\n",
    "print(response.text)"
   ]
  },
  {
   "cell_type": "markdown",
   "id": "01cdeea1",
   "metadata": {},
   "source": [
    "#### Summarize text example"
   ]
  },
  {
   "cell_type": "code",
   "execution_count": null,
   "id": "d51c5159",
   "metadata": {},
   "outputs": [],
   "source": [
    "text = \"\"\"\n",
    "Artificial Intelligence (AI) is transforming industries...\n",
    "[Imagine a long paragraph of text here]\n",
    "\"\"\"\n",
    "\n",
    "prompt = f\"Summarize the following text in 3 bullet points:\\n\\n{text}\"\n",
    "\n",
    "response = client.models.generate_content(\n",
    "    model=\"gemini-2.5-flash\",\n",
    "    contents=prompt\n",
    ")\n",
    "\n",
    "print(response.text)"
   ]
  },
  {
   "cell_type": "markdown",
   "id": "b611f220",
   "metadata": {},
   "source": [
    "#### Text to code"
   ]
  },
  {
   "cell_type": "code",
   "execution_count": null,
   "id": "6a32a7aa",
   "metadata": {},
   "outputs": [],
   "source": [
    "prompt = \"Write a Python function to calculate the factorial of a number using recursion.\"\n",
    "\n",
    "response = client.models.generate_content(\n",
    "    model=\"gemini-2.5-flash\",\n",
    "    contents=prompt\n",
    ")\n",
    "\n",
    "print(response.text)"
   ]
  },
  {
   "cell_type": "markdown",
   "id": "f3a59aa9",
   "metadata": {},
   "source": [
    "#### Sentiment Analysis"
   ]
  },
  {
   "cell_type": "code",
   "execution_count": null,
   "id": "6632e4ee",
   "metadata": {},
   "outputs": [],
   "source": [
    "reviews = [\n",
    "    \"I love this product! It's amazing.\",\n",
    "    \"Terrible experience. I want a refund.\",\n",
    "    \"It’s okay, not great but not bad either.\"\n",
    "]\n",
    "\n",
    "for r in reviews:\n",
    "    prompt = f\"Classify the sentiment of this review as Positive, Negative, or Neutral:\\n\\n{r}\"\n",
    "    response = client.models.generate_content(model=\"gemini-2.5-flash\", contents=prompt)\n",
    "    print(f\"Review: {r}\\nSentiment: {response.text.strip()}\\n\")"
   ]
  },
  {
   "cell_type": "markdown",
   "id": "5082d6ed",
   "metadata": {},
   "source": [
    "Use AI to write code that can read csv file with customer reviews and generate sentiment analysis for these reviews"
   ]
  },
  {
   "cell_type": "code",
   "execution_count": null,
   "id": "2322488c",
   "metadata": {},
   "outputs": [],
   "source": []
  },
  {
   "cell_type": "markdown",
   "id": "08ebfa92",
   "metadata": {},
   "source": [
    "---"
   ]
  },
  {
   "cell_type": "markdown",
   "id": "1ec0c018",
   "metadata": {},
   "source": [
    "#### LLM and Memory"
   ]
  },
  {
   "cell_type": "markdown",
   "id": "f68d19c0",
   "metadata": {},
   "source": [
    "Example 1 — Without Memory"
   ]
  },
  {
   "cell_type": "code",
   "execution_count": null,
   "id": "a3831ad1",
   "metadata": {},
   "outputs": [],
   "source": [
    "from google import genai\n",
    "\n",
    "# Initialize Gemini client\n",
    "client = genai.Client(api_key=\"YOUR_API_KEY_HERE\")\n",
    "MODEL = \"gemini-2.5-flash\"\n",
    "\n",
    "# Step 1: Tell the model your name\n",
    "response1 = client.models.generate_content(\n",
    "    model=MODEL,\n",
    "    contents=\"My name is Mohammed.\"\n",
    ")\n",
    "print(\"Step 1 - Model reply:\", response1.text)\n",
    "\n",
    "# Step 2: Ask what your name is (model has no memory)\n",
    "response2 = client.models.generate_content(\n",
    "    model=MODEL,\n",
    "    contents=\"What is my name?\"\n",
    ")\n",
    "print(\"\\nStep 2 - Model reply (no memory):\", response2.text)\n"
   ]
  },
  {
   "cell_type": "markdown",
   "id": "fc04254a",
   "metadata": {},
   "source": [
    "Example 2 — With Memory\n",
    "\n",
    "Here, you store and reuse conversation history to simulate memory."
   ]
  },
  {
   "cell_type": "code",
   "execution_count": null,
   "id": "7ca883fa",
   "metadata": {},
   "outputs": [],
   "source": [
    "from google import genai\n",
    "\n",
    "client = genai.Client(api_key=\"YOUR_API_KEY_HERE\")\n",
    "MODEL = \"gemini-2.5-flash\"\n",
    "\n",
    "# Conversation history\n",
    "history = []\n",
    "\n",
    "def ask_with_memory(user_input):\n",
    "    global history\n",
    "    # Append user message\n",
    "    history.append({\"role\": \"user\", \"content\": user_input})\n",
    "    \n",
    "    # Combine history contents into a single conversation\n",
    "    response = client.models.generate_content(\n",
    "        model=MODEL,\n",
    "        contents=[m[\"content\"] for m in history]\n",
    "    )\n",
    "    \n",
    "    # Append model reply to history\n",
    "    history.append({\"role\": \"model\", \"content\": response.text})\n",
    "    \n",
    "    return response.text\n",
    "\n",
    "# Step 1: Tell the model your name\n",
    "print(\"Step 1 - Model reply:\", ask_with_memory(\"My name is Mohammed.\"))\n",
    "\n",
    "# Step 2: Ask what your name is\n",
    "print(\"\\nStep 2 - Model reply (with memory):\", ask_with_memory(\"What is my name?\"))\n"
   ]
  }
 ],
 "metadata": {
  "kernelspec": {
   "display_name": "Python 3",
   "language": "python",
   "name": "python3"
  },
  "language_info": {
   "codemirror_mode": {
    "name": "ipython",
    "version": 3
   },
   "file_extension": ".py",
   "mimetype": "text/x-python",
   "name": "python",
   "nbconvert_exporter": "python",
   "pygments_lexer": "ipython3",
   "version": "3.12.4"
  }
 },
 "nbformat": 4,
 "nbformat_minor": 5
}
