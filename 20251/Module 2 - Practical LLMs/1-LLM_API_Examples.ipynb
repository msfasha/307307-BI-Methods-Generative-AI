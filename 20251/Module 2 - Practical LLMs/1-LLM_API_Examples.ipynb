{
 "cells": [
  {
   "cell_type": "markdown",
   "id": "d056e711",
   "metadata": {},
   "source": [
    "<div style=\"display: flex; justify-content: flex-start; align-items: center;\">\n",
    "    <a href=\"https://colab.research.google.com/github/msfasha/307307-BI-Methods-Generative-AI/blob/main/20251/Module%202%20-%20Practical%20LLMs/1-LLM_API_Examples.ipynb\" target=\"_blank\">   \n",
    "        <img src=\"https://colab.research.google.com/assets/colab-badge.svg\" alt=\"Open In Colab\" style=\"height: 25px; margin-right: 20px;\">\n",
    "    </a>\n",
    "</div>"
   ]
  },
  {
   "cell_type": "markdown",
   "id": "5a61216d",
   "metadata": {},
   "source": [
    "## LLM API Examples"
   ]
  },
  {
   "cell_type": "markdown",
   "id": "f1eec6c4",
   "metadata": {},
   "source": [
    "First of all, ensure all the required libraries are installed"
   ]
  },
  {
   "cell_type": "code",
   "execution_count": null,
   "id": "d96770a9",
   "metadata": {},
   "outputs": [],
   "source": [
    "pip install google-genai streamlit"
   ]
  },
  {
   "cell_type": "markdown",
   "id": "cd16c584",
   "metadata": {},
   "source": [
    "Setup you API Key"
   ]
  },
  {
   "cell_type": "markdown",
   "id": "0a09628c",
   "metadata": {},
   "source": [
    "Write your key manually below"
   ]
  },
  {
   "cell_type": "code",
   "execution_count": null,
   "id": "bdb096fc",
   "metadata": {},
   "outputs": [],
   "source": [
    "my_api_key =\"MY_API_KEY_HERE\""
   ]
  },
  {
   "cell_type": "markdown",
   "id": "32574410",
   "metadata": {},
   "source": [
    "Or get it from Colab secrets if you are using Google Colab"
   ]
  },
  {
   "cell_type": "code",
   "execution_count": null,
   "id": "27e9d845",
   "metadata": {},
   "outputs": [],
   "source": [
    "from google.colab import userdata\n",
    "my_api_key = userdata.get('gemini_api_key')"
   ]
  },
  {
   "cell_type": "markdown",
   "id": "33b89eda",
   "metadata": {},
   "source": [
    "Initiate Gemini Client"
   ]
  },
  {
   "cell_type": "markdown",
   "id": "291f4baf",
   "metadata": {},
   "source": [
    "\n",
    "The Gemini client is a software library that allows developers to interact with the Gemini AI model provided by Google.  \n",
    "It enables users to send requests to the model for various tasks, such as generating text, answering questions, or performing sentiment analysis  \n",
    "By using the Gemini client, developers can easily integrate advanced AI capabilities into their applications without needing to understand the underlying complexities of the model."
   ]
  },
  {
   "cell_type": "code",
   "execution_count": 9,
   "id": "7e70a20b",
   "metadata": {},
   "outputs": [],
   "source": [
    "from google import genai\n",
    "from google.genai import types\n",
    "\n",
    "# Initialize the client with your API key\n",
    "client = genai.Client(api_key= my_api_key)"
   ]
  },
  {
   "cell_type": "markdown",
   "id": "9550e81d",
   "metadata": {},
   "source": [
    "#### Gemini API Examples"
   ]
  },
  {
   "cell_type": "markdown",
   "id": "342b485b",
   "metadata": {},
   "source": [
    "#### Simple Questions Answering"
   ]
  },
  {
   "cell_type": "code",
   "execution_count": null,
   "id": "0928c618",
   "metadata": {},
   "outputs": [
    {
     "name": "stdout",
     "output_type": "stream",
     "text": [
      "AI learns patterns from data to make decisions or predictions.\n"
     ]
    }
   ],
   "source": [
    "response = client.models.generate_content(\n",
    "    model=\"gemini-2.5-flash\",\n",
    "    contents=\"Explain how AI works in a few words\")\n",
    "print(response.text)"
   ]
  },
  {
   "cell_type": "markdown",
   "id": "1c090e6e",
   "metadata": {},
   "source": [
    "---"
   ]
  },
  {
   "cell_type": "markdown",
   "id": "01cdeea1",
   "metadata": {},
   "source": [
    "#### Summarize text example"
   ]
  },
  {
   "cell_type": "code",
   "execution_count": 5,
   "id": "d51c5159",
   "metadata": {},
   "outputs": [
    {
     "name": "stdout",
     "output_type": "stream",
     "text": [
      "Here's a summary based on the provided starting point and the typical content of such a paragraph:\n",
      "\n",
      "*   Artificial Intelligence (AI) is a transformative force, fundamentally reshaping various industries.\n",
      "*   It drives significant advancements in efficiency, automation, and data analysis across sectors.\n",
      "*   AI's applications are changing business operations, product development, and service delivery globally.\n"
     ]
    }
   ],
   "source": [
    "text = \"\"\"\n",
    "Artificial Intelligence (AI) is transforming industries...\n",
    "[Imagine a long paragraph of text here]\n",
    "\"\"\"\n",
    "\n",
    "prompt = f\"Summarize the following text in 3 bullet points:\\n\\n{text}\"\n",
    "\n",
    "response = client.models.generate_content(\n",
    "    model=\"gemini-2.5-flash\",\n",
    "    contents=prompt\n",
    ")\n",
    "\n",
    "print(response.text)"
   ]
  },
  {
   "cell_type": "markdown",
   "id": "9f87cdc3",
   "metadata": {},
   "source": [
    "---"
   ]
  },
  {
   "cell_type": "markdown",
   "id": "b611f220",
   "metadata": {},
   "source": [
    "#### Text to code"
   ]
  },
  {
   "cell_type": "code",
   "execution_count": 6,
   "id": "6a32a7aa",
   "metadata": {},
   "outputs": [
    {
     "name": "stdout",
     "output_type": "stream",
     "text": [
      "Here's a Python function to calculate the factorial of a number using recursion, along with explanations and example usage.\n",
      "\n",
      "```python\n",
      "def factorial_recursive(n):\n",
      "    \"\"\"\n",
      "    Calculates the factorial of a non-negative integer using recursion.\n",
      "\n",
      "    The factorial of a non-negative integer n, denoted by n!, is the\n",
      "    product of all positive integers less than or equal to n.\n",
      "    The factorial of 0 is defined as 1.\n",
      "\n",
      "    Args:\n",
      "        n (int): A non-negative integer.\n",
      "\n",
      "    Returns:\n",
      "        int: The factorial of n.\n",
      "\n",
      "    Raises:\n",
      "        TypeError: If the input is not an integer.\n",
      "        ValueError: If the input is a negative integer.\n",
      "\n",
      "    Examples:\n",
      "        >>> factorial_recursive(0)\n",
      "        1\n",
      "        >>> factorial_recursive(1)\n",
      "        1\n",
      "        >>> factorial_recursive(5)\n",
      "        120\n",
      "        >>> factorial_recursive(10)\n",
      "        3628800\n",
      "    \"\"\"\n",
      "    # --- Input Validation ---\n",
      "    if not isinstance(n, int):\n",
      "        raise TypeError(\"Input must be an integer.\")\n",
      "    if n < 0:\n",
      "        raise ValueError(\"Factorial is not defined for negative numbers.\")\n",
      "\n",
      "    # --- Base Case ---\n",
      "    # The factorial of 0 is 1. This is where the recursion stops.\n",
      "    if n == 0:\n",
      "        return 1\n",
      "    # --- Recursive Step ---\n",
      "    # n! = n * (n-1)!\n",
      "    else:\n",
      "        return n * factorial_recursive(n - 1)\n",
      "\n",
      "# --- Example Usage ---\n",
      "print(f\"Factorial of 0: {factorial_recursive(0)}\")\n",
      "print(f\"Factorial of 1: {factorial_recursive(1)}\")\n",
      "print(f\"Factorial of 5: {factorial_recursive(5)}\")\n",
      "print(f\"Factorial of 10: {factorial_recursive(10)}\")\n",
      "\n",
      "# --- Test with invalid inputs ---\n",
      "try:\n",
      "    print(f\"Factorial of -3: {factorial_recursive(-3)}\")\n",
      "except ValueError as e:\n",
      "    print(f\"Error: {e}\")\n",
      "\n",
      "try:\n",
      "    print(f\"Factorial of 2.5: {factorial_recursive(2.5)}\")\n",
      "except TypeError as e:\n",
      "    print(f\"Error: {e}\")\n",
      "\n",
      "try:\n",
      "    print(f\"Factorial of 'abc': {factorial_recursive('abc')}\")\n",
      "except TypeError as e:\n",
      "    print(f\"Error: {e}\")\n",
      "```\n",
      "\n",
      "### Explanation:\n",
      "\n",
      "1.  **Docstring:** Explains what the function does, its arguments, return value, and potential errors, along with examples. This is good practice for code readability and maintainability.\n",
      "\n",
      "2.  **Input Validation:**\n",
      "    *   `if not isinstance(n, int):`: Checks if the input `n` is an integer. If not, it raises a `TypeError`. Factorials are typically defined only for integers.\n",
      "    *   `if n < 0:`: Checks if the input `n` is negative. If so, it raises a `ValueError`. Factorials are not defined for negative numbers.\n",
      "\n",
      "3.  **Base Case (`if n == 0:`):**\n",
      "    *   This is the most crucial part of any recursive function. It defines the condition under which the recursion stops.\n",
      "    *   By definition, `0! = 1`. When `n` reaches `0`, the function simply returns `1` without making further recursive calls. This prevents infinite recursion.\n",
      "\n",
      "4.  **Recursive Step (`else: return n * factorial_recursive(n - 1)`):**\n",
      "    *   This is where the function calls itself.\n",
      "    *   The mathematical definition of factorial is `n! = n * (n-1)!`.\n",
      "    *   The function embodies this directly: it returns `n` multiplied by the factorial of `n-1`.\n",
      "    *   Each recursive call reduces the problem to a smaller version (`n-1`) until it eventually hits the base case (`n=0`).\n",
      "\n",
      "### How it works (Example `factorial_recursive(3)`):\n",
      "\n",
      "1.  `factorial_recursive(3)` is called.\n",
      "    *   `n` is 3 (not 0), so it goes to the `else` block.\n",
      "    *   It returns `3 * factorial_recursive(2)`.\n",
      "2.  `factorial_recursive(2)` is called.\n",
      "    *   `n` is 2 (not 0), so it goes to the `else` block.\n",
      "    *   It returns `2 * factorial_recursive(1)`.\n",
      "3.  `factorial_recursive(1)` is called.\n",
      "    *   `n` is 1 (not 0), so it goes to the `else` block.\n",
      "    *   It returns `1 * factorial_recursive(0)`.\n",
      "4.  `factorial_recursive(0)` is called.\n",
      "    *   `n` is 0. This is the **base case**.\n",
      "    *   It returns `1`.\n",
      "5.  Now the calls unwind:\n",
      "    *   The `factorial_recursive(1)` call receives `1` from `factorial_recursive(0)`. It calculates `1 * 1 = 1` and returns `1`.\n",
      "    *   The `factorial_recursive(2)` call receives `1` from `factorial_recursive(1)`. It calculates `2 * 1 = 2` and returns `2`.\n",
      "    *   The `factorial_recursive(3)` call receives `2` from `factorial_recursive(2)`. It calculates `3 * 2 = 6` and returns `6`.\n",
      "\n",
      "The final result `6` is returned.\n"
     ]
    }
   ],
   "source": [
    "prompt = \"Write a Python function to calculate the factorial of a number using recursion.\"\n",
    "\n",
    "response = client.models.generate_content(\n",
    "    model=\"gemini-2.5-flash\",\n",
    "    contents=prompt\n",
    ")\n",
    "\n",
    "print(response.text)"
   ]
  },
  {
   "cell_type": "markdown",
   "id": "44a6f7c2",
   "metadata": {},
   "source": [
    "---"
   ]
  },
  {
   "cell_type": "markdown",
   "id": "f3a59aa9",
   "metadata": {},
   "source": [
    "#### Sentiment Analysis"
   ]
  },
  {
   "cell_type": "code",
   "execution_count": 7,
   "id": "6632e4ee",
   "metadata": {},
   "outputs": [
    {
     "name": "stdout",
     "output_type": "stream",
     "text": [
      "Review: I love this product! It's amazing.\n",
      "Sentiment: **Positive**\n",
      "\n",
      "Review: Terrible experience. I want a refund.\n",
      "Sentiment: Negative\n",
      "\n",
      "Review: It’s okay, not great but not bad either.\n",
      "Sentiment: **Neutral**\n",
      "\n"
     ]
    }
   ],
   "source": [
    "reviews = [\n",
    "    \"I love this product! It's amazing.\",\n",
    "    \"Terrible experience. I want a refund.\",\n",
    "    \"It’s okay, not great but not bad either.\"\n",
    "]\n",
    "\n",
    "for r in reviews:\n",
    "    prompt = f\"Classify the sentiment of this review as Positive, Negative, or Neutral:\\n\\n{r}\"\n",
    "    response = client.models.generate_content(model=\"gemini-2.5-flash\", contents=prompt)\n",
    "    print(f\"Review: {r}\\nSentiment: {response.text.strip()}\\n\")"
   ]
  },
  {
   "cell_type": "markdown",
   "id": "483b0bcc",
   "metadata": {},
   "source": [
    "---"
   ]
  },
  {
   "cell_type": "markdown",
   "id": "c6e379ca",
   "metadata": {},
   "source": [
    "#### Use VSCode GitHub Co Pilot OR Google Colab AI to write a Program"
   ]
  },
  {
   "cell_type": "markdown",
   "id": "5082d6ed",
   "metadata": {},
   "source": [
    "Write code that reads the following Amazon customers Reviews file into a Pandas dataframe and display the first five rows:  \n",
    "from: https://github.com/msfasha/307307-BI-Methods-Generative-AI/blob/main/20251/Module%202%20-%20Practical%20LLMs/amazon_reviews.csv \n"
   ]
  },
  {
   "cell_type": "code",
   "execution_count": null,
   "id": "2322488c",
   "metadata": {},
   "outputs": [],
   "source": []
  },
  {
   "cell_type": "markdown",
   "id": "2a9a29d5",
   "metadata": {},
   "source": [
    "Write code that implements sentiment analysis for these reviews using Gemini API"
   ]
  },
  {
   "cell_type": "code",
   "execution_count": null,
   "id": "632acc68",
   "metadata": {},
   "outputs": [],
   "source": []
  },
  {
   "cell_type": "markdown",
   "id": "08ebfa92",
   "metadata": {},
   "source": [
    "---"
   ]
  },
  {
   "cell_type": "markdown",
   "id": "1ec0c018",
   "metadata": {},
   "source": [
    "#### LLM and Memory"
   ]
  },
  {
   "cell_type": "markdown",
   "id": "f68d19c0",
   "metadata": {},
   "source": [
    "Example 1 — Without Memory"
   ]
  },
  {
   "cell_type": "code",
   "execution_count": 11,
   "id": "a3831ad1",
   "metadata": {},
   "outputs": [
    {
     "name": "stdout",
     "output_type": "stream",
     "text": [
      "Step 1 - Model reply: Hello Mohammed! It's nice to meet you. How can I help you today?\n",
      "\n",
      "Step 2 -  As an AI, I don't know your name. I don't have access to personal information about you.\n"
     ]
    }
   ],
   "source": [
    "from google import genai\n",
    "\n",
    "# Step 1: Tell the model your name\n",
    "response1 = client.models.generate_content(\n",
    "    model=\"gemini-2.5-flash\",\n",
    "    contents=\"My name is Mohammed.\"\n",
    ")\n",
    "print(\"Step 1 - Model reply:\", response1.text)\n",
    "\n",
    "# Step 2: Ask what your name is (model has no memory)\n",
    "response2 = client.models.generate_content(\n",
    "    model=\"gemini-2.5-flash\",\n",
    "    contents=\"What is my name?\"\n",
    ")\n",
    "print(\"\\nStep 2 - \", response2.text)\n"
   ]
  },
  {
   "cell_type": "markdown",
   "id": "fc04254a",
   "metadata": {},
   "source": [
    "Example 2 — With Memory\n",
    "\n",
    "Here, you store and reuse conversation history to simulate memory."
   ]
  },
  {
   "cell_type": "code",
   "execution_count": 12,
   "id": "7ca883fa",
   "metadata": {},
   "outputs": [
    {
     "name": "stdout",
     "output_type": "stream",
     "text": [
      "Step 1 - Model reply: Hello Mohammed, it's nice to meet you! How can I help you today?\n",
      "\n",
      "Step 2 - Model reply (with memory): Your name is Mohammed.\n"
     ]
    }
   ],
   "source": [
    "from google import genai\n",
    "\n",
    "# Conversation history\n",
    "history = []\n",
    "\n",
    "def ask_with_memory(user_input):\n",
    "    global history\n",
    "    # Append user message\n",
    "    history.append({\"role\": \"user\", \"content\": user_input})\n",
    "    \n",
    "    # Combine history contents into a single conversation\n",
    "    response = client.models.generate_content(\n",
    "        model=\"gemini-2.5-flash\",\n",
    "        contents=[m[\"content\"] for m in history]\n",
    "    )\n",
    "    \n",
    "    # Append model reply to history\n",
    "    history.append({\"role\": \"model\", \"content\": response.text})\n",
    "    \n",
    "    return response.text\n",
    "\n",
    "# Step 1: Tell the model your name\n",
    "print(\"Step 1 - Model reply:\", ask_with_memory(\"My name is Mohammed.\"))\n",
    "\n",
    "# Step 2: Ask what your name is\n",
    "print(\"\\nStep 2 - Model reply (with memory):\", ask_with_memory(\"What is my name?\"))\n"
   ]
  }
 ],
 "metadata": {
  "kernelspec": {
   "display_name": "mynev",
   "language": "python",
   "name": "python3"
  },
  "language_info": {
   "codemirror_mode": {
    "name": "ipython",
    "version": 3
   },
   "file_extension": ".py",
   "mimetype": "text/x-python",
   "name": "python",
   "nbconvert_exporter": "python",
   "pygments_lexer": "ipython3",
   "version": "3.12.4"
  }
 },
 "nbformat": 4,
 "nbformat_minor": 5
}
